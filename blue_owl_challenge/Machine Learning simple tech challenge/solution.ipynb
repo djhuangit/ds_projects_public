{
 "cells": [
  {
   "cell_type": "code",
   "execution_count": 1,
   "metadata": {},
   "outputs": [
    {
     "data": {
      "application/javascript": [
       "IPython.notebook.set_autosave_interval(0)"
      ]
     },
     "metadata": {},
     "output_type": "display_data"
    },
    {
     "name": "stdout",
     "output_type": "stream",
     "text": [
      "Autosave disabled\n"
     ]
    }
   ],
   "source": [
    "%autosave 0"
   ]
  },
  {
   "cell_type": "markdown",
   "metadata": {},
   "source": [
    "ideas:\n",
    "1. data processing - one hot encoding, normalization\n",
    "2. quick EDA\n",
    "3. set up cv5\n",
    "4. get a baseline performance by using the data as it is with a few models (lr, svm, random forest, lda)\n",
    "5. feature engineering and re-train\n",
    "6. use XGboost"
   ]
  },
  {
   "cell_type": "markdown",
   "metadata": {},
   "source": [
    "# Data import and cleaning"
   ]
  },
  {
   "cell_type": "code",
   "execution_count": 2,
   "metadata": {},
   "outputs": [],
   "source": [
    "train_path = \"data/train.csv\"\n",
    "test_path = \"data/test.csv\""
   ]
  },
  {
   "cell_type": "code",
   "execution_count": 3,
   "metadata": {},
   "outputs": [],
   "source": [
    "import numpy as np\n",
    "import pandas as pd"
   ]
  },
  {
   "cell_type": "markdown",
   "metadata": {},
   "source": [
    "# simple EDA"
   ]
  },
  {
   "cell_type": "code",
   "execution_count": 4,
   "metadata": {},
   "outputs": [],
   "source": [
    "import matplotlib.pyplot as plt"
   ]
  },
  {
   "cell_type": "code",
   "execution_count": 5,
   "metadata": {},
   "outputs": [],
   "source": [
    "train_df = pd.read_csv(train_path)"
   ]
  },
  {
   "cell_type": "code",
   "execution_count": 6,
   "metadata": {},
   "outputs": [],
   "source": [
    "test_df = pd.read_csv(test_path)"
   ]
  },
  {
   "cell_type": "code",
   "execution_count": 7,
   "metadata": {},
   "outputs": [
    {
     "data": {
      "text/html": [
       "<div>\n",
       "<style scoped>\n",
       "    .dataframe tbody tr th:only-of-type {\n",
       "        vertical-align: middle;\n",
       "    }\n",
       "\n",
       "    .dataframe tbody tr th {\n",
       "        vertical-align: top;\n",
       "    }\n",
       "\n",
       "    .dataframe thead th {\n",
       "        text-align: right;\n",
       "    }\n",
       "</style>\n",
       "<table border=\"1\" class=\"dataframe\">\n",
       "  <thead>\n",
       "    <tr style=\"text-align: right;\">\n",
       "      <th></th>\n",
       "      <th>age</th>\n",
       "      <th>cost_of_ad</th>\n",
       "      <th>device_type</th>\n",
       "      <th>gender</th>\n",
       "      <th>in_initial_launch_location</th>\n",
       "      <th>income</th>\n",
       "      <th>n_drivers</th>\n",
       "      <th>n_vehicles</th>\n",
       "      <th>prior_ins_tenure</th>\n",
       "      <th>outcome</th>\n",
       "    </tr>\n",
       "  </thead>\n",
       "  <tbody>\n",
       "    <tr>\n",
       "      <th>0</th>\n",
       "      <td>56</td>\n",
       "      <td>0.005737</td>\n",
       "      <td>iPhone</td>\n",
       "      <td>M</td>\n",
       "      <td>0</td>\n",
       "      <td>62717</td>\n",
       "      <td>2</td>\n",
       "      <td>1</td>\n",
       "      <td>4</td>\n",
       "      <td>0</td>\n",
       "    </tr>\n",
       "    <tr>\n",
       "      <th>1</th>\n",
       "      <td>50</td>\n",
       "      <td>0.004733</td>\n",
       "      <td>desktop</td>\n",
       "      <td>F</td>\n",
       "      <td>0</td>\n",
       "      <td>64328</td>\n",
       "      <td>2</td>\n",
       "      <td>3</td>\n",
       "      <td>2</td>\n",
       "      <td>0</td>\n",
       "    </tr>\n",
       "    <tr>\n",
       "      <th>2</th>\n",
       "      <td>54</td>\n",
       "      <td>0.004129</td>\n",
       "      <td>laptop</td>\n",
       "      <td>M</td>\n",
       "      <td>0</td>\n",
       "      <td>83439</td>\n",
       "      <td>1</td>\n",
       "      <td>3</td>\n",
       "      <td>7</td>\n",
       "      <td>0</td>\n",
       "    </tr>\n",
       "    <tr>\n",
       "      <th>3</th>\n",
       "      <td>16</td>\n",
       "      <td>0.005117</td>\n",
       "      <td>Android</td>\n",
       "      <td>F</td>\n",
       "      <td>0</td>\n",
       "      <td>30110</td>\n",
       "      <td>2</td>\n",
       "      <td>3</td>\n",
       "      <td>0</td>\n",
       "      <td>0</td>\n",
       "    </tr>\n",
       "    <tr>\n",
       "      <th>4</th>\n",
       "      <td>37</td>\n",
       "      <td>0.003635</td>\n",
       "      <td>desktop</td>\n",
       "      <td>M</td>\n",
       "      <td>0</td>\n",
       "      <td>76565</td>\n",
       "      <td>2</td>\n",
       "      <td>1</td>\n",
       "      <td>5</td>\n",
       "      <td>0</td>\n",
       "    </tr>\n",
       "  </tbody>\n",
       "</table>\n",
       "</div>"
      ],
      "text/plain": [
       "   age  cost_of_ad device_type gender  in_initial_launch_location  income  \\\n",
       "0   56    0.005737      iPhone      M                           0   62717   \n",
       "1   50    0.004733     desktop      F                           0   64328   \n",
       "2   54    0.004129      laptop      M                           0   83439   \n",
       "3   16    0.005117     Android      F                           0   30110   \n",
       "4   37    0.003635     desktop      M                           0   76565   \n",
       "\n",
       "   n_drivers  n_vehicles  prior_ins_tenure  outcome  \n",
       "0          2           1                 4        0  \n",
       "1          2           3                 2        0  \n",
       "2          1           3                 7        0  \n",
       "3          2           3                 0        0  \n",
       "4          2           1                 5        0  "
      ]
     },
     "execution_count": 7,
     "metadata": {},
     "output_type": "execute_result"
    }
   ],
   "source": [
    "train_df.head()"
   ]
  },
  {
   "cell_type": "code",
   "execution_count": 8,
   "metadata": {},
   "outputs": [
    {
     "data": {
      "text/html": [
       "<div>\n",
       "<style scoped>\n",
       "    .dataframe tbody tr th:only-of-type {\n",
       "        vertical-align: middle;\n",
       "    }\n",
       "\n",
       "    .dataframe tbody tr th {\n",
       "        vertical-align: top;\n",
       "    }\n",
       "\n",
       "    .dataframe thead th {\n",
       "        text-align: right;\n",
       "    }\n",
       "</style>\n",
       "<table border=\"1\" class=\"dataframe\">\n",
       "  <thead>\n",
       "    <tr style=\"text-align: right;\">\n",
       "      <th></th>\n",
       "      <th>age</th>\n",
       "      <th>cost_of_ad</th>\n",
       "      <th>in_initial_launch_location</th>\n",
       "      <th>income</th>\n",
       "      <th>n_drivers</th>\n",
       "      <th>n_vehicles</th>\n",
       "      <th>prior_ins_tenure</th>\n",
       "      <th>outcome</th>\n",
       "    </tr>\n",
       "  </thead>\n",
       "  <tbody>\n",
       "    <tr>\n",
       "      <th>count</th>\n",
       "      <td>10000.000000</td>\n",
       "      <td>10000.000000</td>\n",
       "      <td>10000.000000</td>\n",
       "      <td>10000.000000</td>\n",
       "      <td>10000.000000</td>\n",
       "      <td>10000.00000</td>\n",
       "      <td>10000.000000</td>\n",
       "      <td>10000.0000</td>\n",
       "    </tr>\n",
       "    <tr>\n",
       "      <th>mean</th>\n",
       "      <td>37.991800</td>\n",
       "      <td>0.004666</td>\n",
       "      <td>0.497500</td>\n",
       "      <td>58004.335800</td>\n",
       "      <td>1.497000</td>\n",
       "      <td>2.00220</td>\n",
       "      <td>5.406800</td>\n",
       "      <td>0.0982</td>\n",
       "    </tr>\n",
       "    <tr>\n",
       "      <th>std</th>\n",
       "      <td>13.038203</td>\n",
       "      <td>0.000838</td>\n",
       "      <td>0.500019</td>\n",
       "      <td>17330.778355</td>\n",
       "      <td>0.500016</td>\n",
       "      <td>0.81784</td>\n",
       "      <td>5.046014</td>\n",
       "      <td>0.2976</td>\n",
       "    </tr>\n",
       "    <tr>\n",
       "      <th>min</th>\n",
       "      <td>16.000000</td>\n",
       "      <td>0.003171</td>\n",
       "      <td>0.000000</td>\n",
       "      <td>16241.000000</td>\n",
       "      <td>1.000000</td>\n",
       "      <td>1.00000</td>\n",
       "      <td>0.000000</td>\n",
       "      <td>0.0000</td>\n",
       "    </tr>\n",
       "    <tr>\n",
       "      <th>25%</th>\n",
       "      <td>27.000000</td>\n",
       "      <td>0.003995</td>\n",
       "      <td>0.000000</td>\n",
       "      <td>45533.500000</td>\n",
       "      <td>1.000000</td>\n",
       "      <td>1.00000</td>\n",
       "      <td>1.000000</td>\n",
       "      <td>0.0000</td>\n",
       "    </tr>\n",
       "    <tr>\n",
       "      <th>50%</th>\n",
       "      <td>38.000000</td>\n",
       "      <td>0.004625</td>\n",
       "      <td>0.000000</td>\n",
       "      <td>58053.500000</td>\n",
       "      <td>1.000000</td>\n",
       "      <td>2.00000</td>\n",
       "      <td>4.000000</td>\n",
       "      <td>0.0000</td>\n",
       "    </tr>\n",
       "    <tr>\n",
       "      <th>75%</th>\n",
       "      <td>49.000000</td>\n",
       "      <td>0.005164</td>\n",
       "      <td>1.000000</td>\n",
       "      <td>70235.250000</td>\n",
       "      <td>2.000000</td>\n",
       "      <td>3.00000</td>\n",
       "      <td>8.000000</td>\n",
       "      <td>0.0000</td>\n",
       "    </tr>\n",
       "    <tr>\n",
       "      <th>max</th>\n",
       "      <td>60.000000</td>\n",
       "      <td>0.007082</td>\n",
       "      <td>1.000000</td>\n",
       "      <td>99956.000000</td>\n",
       "      <td>2.000000</td>\n",
       "      <td>3.00000</td>\n",
       "      <td>22.000000</td>\n",
       "      <td>1.0000</td>\n",
       "    </tr>\n",
       "  </tbody>\n",
       "</table>\n",
       "</div>"
      ],
      "text/plain": [
       "                age    cost_of_ad  in_initial_launch_location        income  \\\n",
       "count  10000.000000  10000.000000                10000.000000  10000.000000   \n",
       "mean      37.991800      0.004666                    0.497500  58004.335800   \n",
       "std       13.038203      0.000838                    0.500019  17330.778355   \n",
       "min       16.000000      0.003171                    0.000000  16241.000000   \n",
       "25%       27.000000      0.003995                    0.000000  45533.500000   \n",
       "50%       38.000000      0.004625                    0.000000  58053.500000   \n",
       "75%       49.000000      0.005164                    1.000000  70235.250000   \n",
       "max       60.000000      0.007082                    1.000000  99956.000000   \n",
       "\n",
       "          n_drivers   n_vehicles  prior_ins_tenure     outcome  \n",
       "count  10000.000000  10000.00000      10000.000000  10000.0000  \n",
       "mean       1.497000      2.00220          5.406800      0.0982  \n",
       "std        0.500016      0.81784          5.046014      0.2976  \n",
       "min        1.000000      1.00000          0.000000      0.0000  \n",
       "25%        1.000000      1.00000          1.000000      0.0000  \n",
       "50%        1.000000      2.00000          4.000000      0.0000  \n",
       "75%        2.000000      3.00000          8.000000      0.0000  \n",
       "max        2.000000      3.00000         22.000000      1.0000  "
      ]
     },
     "execution_count": 8,
     "metadata": {},
     "output_type": "execute_result"
    }
   ],
   "source": [
    "train_df.describe()"
   ]
  },
  {
   "cell_type": "code",
   "execution_count": 9,
   "metadata": {},
   "outputs": [
    {
     "name": "stdout",
     "output_type": "stream",
     "text": [
      "<class 'pandas.core.frame.DataFrame'>\n",
      "RangeIndex: 10000 entries, 0 to 9999\n",
      "Data columns (total 10 columns):\n",
      "age                           10000 non-null int64\n",
      "cost_of_ad                    10000 non-null float64\n",
      "device_type                   10000 non-null object\n",
      "gender                        9731 non-null object\n",
      "in_initial_launch_location    10000 non-null int64\n",
      "income                        10000 non-null int64\n",
      "n_drivers                     10000 non-null int64\n",
      "n_vehicles                    10000 non-null int64\n",
      "prior_ins_tenure              10000 non-null int64\n",
      "outcome                       10000 non-null int64\n",
      "dtypes: float64(1), int64(7), object(2)\n",
      "memory usage: 781.4+ KB\n"
     ]
    }
   ],
   "source": [
    "train_df.info()"
   ]
  },
  {
   "cell_type": "code",
   "execution_count": 10,
   "metadata": {},
   "outputs": [
    {
     "data": {
      "text/plain": [
       "0    9018\n",
       "1     982\n",
       "Name: outcome, dtype: int64"
      ]
     },
     "execution_count": 10,
     "metadata": {},
     "output_type": "execute_result"
    }
   ],
   "source": [
    "train_df['outcome'].value_counts()"
   ]
  },
  {
   "cell_type": "code",
   "execution_count": 11,
   "metadata": {},
   "outputs": [
    {
     "data": {
      "image/png": "[encoded data removed]",
      "text/plain": [
       "<Figure size 864x576 with 9 Axes>"
      ]
     },
     "metadata": {
      "needs_background": "light"
     },
     "output_type": "display_data"
    }
   ],
   "source": [
    "train_df.hist(figsize=(12,8))\n",
    "plt.show()"
   ]
  },
  {
   "cell_type": "markdown",
   "metadata": {},
   "source": [
    "# Data preprocessing"
   ]
  },
  {
   "cell_type": "code",
   "execution_count": 12,
   "metadata": {},
   "outputs": [],
   "source": [
    "from sklearn.preprocessing import OneHotEncoder\n",
    "from sklearn.preprocessing import OrdinalEncoder\n",
    "from sklearn.preprocessing import StandardScaler\n",
    "from sklearn.preprocessing import MinMaxScaler"
   ]
  },
  {
   "cell_type": "code",
   "execution_count": 13,
   "metadata": {},
   "outputs": [],
   "source": [
    "cat_features = ['device_type', 'gender', 'in_initial_launch_location']\n",
    "\n",
    "def data_preprocessing(data, use_scale=False, scale=None, onehot=True):\n",
    "    data['gender'].fillna(data['gender'].mode().iloc[0], inplace=True)\n",
    "    \n",
    "    if onehot: \n",
    "        one_hot = OneHotEncoder(sparse=False)\n",
    "        one_hot.fit(data['in_initial_launch_location'].values.reshape(-1,1))\n",
    "        location_onehot = one_hot.fit_transform(data['in_initial_launch_location'].values.reshape(-1,1))\n",
    "        data = data.join(pd.DataFrame(location_onehot, columns=['location_onehot1','location_onehot2'])).drop('in_initial_launch_location',axis=1)\n",
    "\n",
    "        one_hot = OneHotEncoder(sparse=False)\n",
    "        device_onehot = one_hot.fit_transform(data['device_type'].values.reshape(-1,1))\n",
    "        data = data.join(pd.DataFrame(device_onehot, columns=['device_onehot1','device_onehot2','device_onehot3','device_onehot4','device_onehot5'])).drop('device_type',axis=1)\n",
    "\n",
    "        one_hot = OneHotEncoder(sparse=False, handle_unknown='ignore')\n",
    "        gender_onehot = one_hot.fit_transform(data['gender'].values.reshape(-1,1))\n",
    "        data = data.join(pd.DataFrame(gender_onehot, columns=['gender_onehot1','gender_onehot2'])).drop('gender',axis=1)\n",
    "        \n",
    "    else:\n",
    "        ord_encoder = OrdinalEncoder()\n",
    "        ords = pd.DataFrame(ord_encoder.fit_transform(train_df[cat_features]), columns = cat_features)\n",
    "        data[cat_features] = ords\n",
    "        \n",
    "    if use_scale and scale!=None:\n",
    "        data = pd.DataFrame(scale.fit_transform(data.iloc[:,0:6]), columns = data.iloc[:,0:6].columns).join(data.iloc[:,6:])\n",
    "\n",
    "    return data"
   ]
  },
  {
   "cell_type": "code",
   "execution_count": 14,
   "metadata": {},
   "outputs": [
    {
     "data": {
      "text/html": [
       "<div>\n",
       "<style scoped>\n",
       "    .dataframe tbody tr th:only-of-type {\n",
       "        vertical-align: middle;\n",
       "    }\n",
       "\n",
       "    .dataframe tbody tr th {\n",
       "        vertical-align: top;\n",
       "    }\n",
       "\n",
       "    .dataframe thead th {\n",
       "        text-align: right;\n",
       "    }\n",
       "</style>\n",
       "<table border=\"1\" class=\"dataframe\">\n",
       "  <thead>\n",
       "    <tr style=\"text-align: right;\">\n",
       "      <th></th>\n",
       "      <th>age</th>\n",
       "      <th>cost_of_ad</th>\n",
       "      <th>income</th>\n",
       "      <th>n_drivers</th>\n",
       "      <th>n_vehicles</th>\n",
       "      <th>prior_ins_tenure</th>\n",
       "      <th>outcome</th>\n",
       "      <th>location_onehot1</th>\n",
       "      <th>location_onehot2</th>\n",
       "      <th>device_onehot1</th>\n",
       "      <th>device_onehot2</th>\n",
       "      <th>device_onehot3</th>\n",
       "      <th>device_onehot4</th>\n",
       "      <th>device_onehot5</th>\n",
       "      <th>gender_onehot1</th>\n",
       "      <th>gender_onehot2</th>\n",
       "    </tr>\n",
       "  </thead>\n",
       "  <tbody>\n",
       "    <tr>\n",
       "      <th>0</th>\n",
       "      <td>0.909091</td>\n",
       "      <td>0.656134</td>\n",
       "      <td>0.555169</td>\n",
       "      <td>1.0</td>\n",
       "      <td>0.0</td>\n",
       "      <td>0.181818</td>\n",
       "      <td>0</td>\n",
       "      <td>1.0</td>\n",
       "      <td>0.0</td>\n",
       "      <td>0.0</td>\n",
       "      <td>0.0</td>\n",
       "      <td>1.0</td>\n",
       "      <td>0.0</td>\n",
       "      <td>0.0</td>\n",
       "      <td>0.0</td>\n",
       "      <td>1.0</td>\n",
       "    </tr>\n",
       "    <tr>\n",
       "      <th>1</th>\n",
       "      <td>0.772727</td>\n",
       "      <td>0.399411</td>\n",
       "      <td>0.574413</td>\n",
       "      <td>1.0</td>\n",
       "      <td>1.0</td>\n",
       "      <td>0.090909</td>\n",
       "      <td>0</td>\n",
       "      <td>1.0</td>\n",
       "      <td>0.0</td>\n",
       "      <td>0.0</td>\n",
       "      <td>1.0</td>\n",
       "      <td>0.0</td>\n",
       "      <td>0.0</td>\n",
       "      <td>0.0</td>\n",
       "      <td>1.0</td>\n",
       "      <td>0.0</td>\n",
       "    </tr>\n",
       "    <tr>\n",
       "      <th>2</th>\n",
       "      <td>0.863636</td>\n",
       "      <td>0.245129</td>\n",
       "      <td>0.802700</td>\n",
       "      <td>0.0</td>\n",
       "      <td>1.0</td>\n",
       "      <td>0.318182</td>\n",
       "      <td>0</td>\n",
       "      <td>1.0</td>\n",
       "      <td>0.0</td>\n",
       "      <td>0.0</td>\n",
       "      <td>0.0</td>\n",
       "      <td>0.0</td>\n",
       "      <td>1.0</td>\n",
       "      <td>0.0</td>\n",
       "      <td>0.0</td>\n",
       "      <td>1.0</td>\n",
       "    </tr>\n",
       "    <tr>\n",
       "      <th>3</th>\n",
       "      <td>0.000000</td>\n",
       "      <td>0.497737</td>\n",
       "      <td>0.165669</td>\n",
       "      <td>1.0</td>\n",
       "      <td>1.0</td>\n",
       "      <td>0.000000</td>\n",
       "      <td>0</td>\n",
       "      <td>1.0</td>\n",
       "      <td>0.0</td>\n",
       "      <td>1.0</td>\n",
       "      <td>0.0</td>\n",
       "      <td>0.0</td>\n",
       "      <td>0.0</td>\n",
       "      <td>0.0</td>\n",
       "      <td>1.0</td>\n",
       "      <td>0.0</td>\n",
       "    </tr>\n",
       "    <tr>\n",
       "      <th>4</th>\n",
       "      <td>0.477273</td>\n",
       "      <td>0.118628</td>\n",
       "      <td>0.720588</td>\n",
       "      <td>1.0</td>\n",
       "      <td>0.0</td>\n",
       "      <td>0.227273</td>\n",
       "      <td>0</td>\n",
       "      <td>1.0</td>\n",
       "      <td>0.0</td>\n",
       "      <td>0.0</td>\n",
       "      <td>1.0</td>\n",
       "      <td>0.0</td>\n",
       "      <td>0.0</td>\n",
       "      <td>0.0</td>\n",
       "      <td>0.0</td>\n",
       "      <td>1.0</td>\n",
       "    </tr>\n",
       "  </tbody>\n",
       "</table>\n",
       "</div>"
      ],
      "text/plain": [
       "        age  cost_of_ad    income  n_drivers  n_vehicles  prior_ins_tenure  \\\n",
       "0  0.909091    0.656134  0.555169        1.0         0.0          0.181818   \n",
       "1  0.772727    0.399411  0.574413        1.0         1.0          0.090909   \n",
       "2  0.863636    0.245129  0.802700        0.0         1.0          0.318182   \n",
       "3  0.000000    0.497737  0.165669        1.0         1.0          0.000000   \n",
       "4  0.477273    0.118628  0.720588        1.0         0.0          0.227273   \n",
       "\n",
       "   outcome  location_onehot1  location_onehot2  device_onehot1  \\\n",
       "0        0               1.0               0.0             0.0   \n",
       "1        0               1.0               0.0             0.0   \n",
       "2        0               1.0               0.0             0.0   \n",
       "3        0               1.0               0.0             1.0   \n",
       "4        0               1.0               0.0             0.0   \n",
       "\n",
       "   device_onehot2  device_onehot3  device_onehot4  device_onehot5  \\\n",
       "0             0.0             1.0             0.0             0.0   \n",
       "1             1.0             0.0             0.0             0.0   \n",
       "2             0.0             0.0             1.0             0.0   \n",
       "3             0.0             0.0             0.0             0.0   \n",
       "4             1.0             0.0             0.0             0.0   \n",
       "\n",
       "   gender_onehot1  gender_onehot2  \n",
       "0             0.0             1.0  \n",
       "1             1.0             0.0  \n",
       "2             0.0             1.0  \n",
       "3             1.0             0.0  \n",
       "4             0.0             1.0  "
      ]
     },
     "execution_count": 14,
     "metadata": {},
     "output_type": "execute_result"
    }
   ],
   "source": [
    "train = data_preprocessing(train_df, use_scale=True, scale=MinMaxScaler(), onehot=True)\n",
    "train.head()"
   ]
  },
  {
   "cell_type": "code",
   "execution_count": 15,
   "metadata": {},
   "outputs": [
    {
     "data": {
      "image/png": "[encoded data removed]",
      "text/plain": [
       "<Figure size 864x576 with 16 Axes>"
      ]
     },
     "metadata": {
      "needs_background": "light"
     },
     "output_type": "display_data"
    }
   ],
   "source": [
    "train.hist(figsize=(12,8))\n",
    "plt.show()"
   ]
  },
  {
   "cell_type": "markdown",
   "metadata": {},
   "source": [
    "# Model comparison"
   ]
  },
  {
   "cell_type": "code",
   "execution_count": 16,
   "metadata": {},
   "outputs": [],
   "source": [
    "from sklearn.linear_model import LogisticRegression\n",
    "from sklearn.svm import SVC\n",
    "from sklearn.tree import DecisionTreeClassifier\n",
    "from sklearn.ensemble import RandomForestClassifier\n",
    "from sklearn.discriminant_analysis import LinearDiscriminantAnalysis\n",
    "from sklearn.model_selection import cross_val_score"
   ]
  },
  {
   "cell_type": "code",
   "execution_count": 17,
   "metadata": {},
   "outputs": [],
   "source": [
    "X = train.drop('outcome', axis=1)\n",
    "y = train['outcome']"
   ]
  },
  {
   "cell_type": "code",
   "execution_count": 18,
   "metadata": {},
   "outputs": [],
   "source": [
    "#X.drop([\"device_onehot1\",\"device_onehot2\",\"device_onehot3\",\"device_onehot4\",'device_onehot5'], axis=1, inplace=True)"
   ]
  },
  {
   "cell_type": "code",
   "execution_count": 19,
   "metadata": {},
   "outputs": [],
   "source": [
    "model_dict = {'lr': LogisticRegression(max_iter=200),\n",
    "              'svm': SVC(), \n",
    "              'cart': DecisionTreeClassifier(), \n",
    "              'rf': RandomForestClassifier(),\n",
    "              'ldr': LinearDiscriminantAnalysis()\n",
    "             }"
   ]
  },
  {
   "cell_type": "code",
   "execution_count": 20,
   "metadata": {},
   "outputs": [
    {
     "data": {
      "text/plain": [
       "0    0.762177\n",
       "1    0.772023\n",
       "2    0.772508\n",
       "3    0.756907\n",
       "4    0.772092\n",
       "dtype: float64"
      ]
     },
     "execution_count": 20,
     "metadata": {},
     "output_type": "execute_result"
    }
   ],
   "source": [
    "cv_scores = []\n",
    "for i, model in enumerate(model_dict):\n",
    "    cv_score = cross_val_score(model_dict[model],X, y, scoring='roc_auc', cv=5)\n",
    "    cv_scores.append(cv_score)\n",
    "    \n",
    "cv_scores = pd.DataFrame(cv_scores, index=list(model_dict.keys()))\n",
    "cv_scores.mean()"
   ]
  },
  {
   "cell_type": "code",
   "execution_count": 21,
   "metadata": {},
   "outputs": [
    {
     "name": "stdout",
     "output_type": "stream",
     "text": [
      "scores:[0.81329755 0.8160126  0.81745498 0.80644498 0.82396795], \n",
      " mean:0.8154356115757808\n"
     ]
    }
   ],
   "source": [
    "cv_score = cross_val_score(LogisticRegression(max_iter=200), X, y, scoring='roc_auc', cv=5)\n",
    "print(f\"scores:{cv_score}, \\n mean:{cv_score.mean()}\")"
   ]
  },
  {
   "cell_type": "code",
   "execution_count": 22,
   "metadata": {},
   "outputs": [
    {
     "name": "stdout",
     "output_type": "stream",
     "text": [
      "scores:[0.75298373 0.77280646 0.78677768 0.76317249 0.76424234], \n",
      " mean:0.7679965407779668\n"
     ]
    }
   ],
   "source": [
    "cv_score = cross_val_score(SVC(),X, y, scoring='roc_auc', cv=5)\n",
    "print(f\"scores:{cv_score}, \\n mean:{cv_score.mean()}\")"
   ]
  },
  {
   "cell_type": "code",
   "execution_count": 23,
   "metadata": {},
   "outputs": [
    {
     "name": "stdout",
     "output_type": "stream",
     "text": [
      "scores:[0.62130074 0.63932757 0.6086022  0.60477884 0.62853789], \n",
      " mean:0.6205094461439764\n"
     ]
    }
   ],
   "source": [
    "cv_score = cross_val_score(DecisionTreeClassifier(), X, y, scoring='roc_auc', cv=5)\n",
    "print(f\"scores:{cv_score}, \\n mean:{cv_score.mean()}\")"
   ]
  },
  {
   "cell_type": "code",
   "execution_count": 24,
   "metadata": {},
   "outputs": [
    {
     "name": "stdout",
     "output_type": "stream",
     "text": [
      "scores:[0.82012054 0.83635713 0.82916506 0.80874515 0.82806997], \n",
      " mean:0.8244915709415235\n"
     ]
    }
   ],
   "source": [
    "cv_score = cross_val_score(RandomForestClassifier(n_estimators=500, random_state=42),X, y, scoring='roc_auc', cv=5)\n",
    "print(f\"scores:{cv_score}, \\n mean:{cv_score.mean()}\")"
   ]
  },
  {
   "cell_type": "code",
   "execution_count": 25,
   "metadata": {},
   "outputs": [
    {
     "name": "stdout",
     "output_type": "stream",
     "text": [
      "scores:[0.81338522 0.81570433 0.81852968 0.80511612 0.82552767], \n",
      " mean:0.8156526061260092\n"
     ]
    }
   ],
   "source": [
    "cv_score = cross_val_score(LinearDiscriminantAnalysis(), X, y, scoring='roc_auc', cv=5)\n",
    "print(f\"scores:{cv_score}, \\n mean:{cv_score.mean()}\")"
   ]
  },
  {
   "cell_type": "markdown",
   "metadata": {},
   "source": [
    "**observation**: \n",
    "- lr is sensitive to feature scaling, rf is not so much\n",
    "- minmax scaling is better\n",
    "- onehot encoding gives better results"
   ]
  },
  {
   "cell_type": "markdown",
   "metadata": {},
   "source": [
    "# Feature engineering"
   ]
  },
  {
   "cell_type": "code",
   "execution_count": 26,
   "metadata": {},
   "outputs": [
    {
     "data": {
      "text/html": [
       "<div>\n",
       "<style scoped>\n",
       "    .dataframe tbody tr th:only-of-type {\n",
       "        vertical-align: middle;\n",
       "    }\n",
       "\n",
       "    .dataframe tbody tr th {\n",
       "        vertical-align: top;\n",
       "    }\n",
       "\n",
       "    .dataframe thead th {\n",
       "        text-align: right;\n",
       "    }\n",
       "</style>\n",
       "<table border=\"1\" class=\"dataframe\">\n",
       "  <thead>\n",
       "    <tr style=\"text-align: right;\">\n",
       "      <th></th>\n",
       "      <th>age</th>\n",
       "      <th>cost_of_ad</th>\n",
       "      <th>income</th>\n",
       "      <th>n_drivers</th>\n",
       "      <th>n_vehicles</th>\n",
       "      <th>prior_ins_tenure</th>\n",
       "      <th>outcome</th>\n",
       "      <th>location_onehot1</th>\n",
       "      <th>location_onehot2</th>\n",
       "      <th>device_onehot1</th>\n",
       "      <th>...</th>\n",
       "      <th>device_onehot3</th>\n",
       "      <th>device_onehot4</th>\n",
       "      <th>device_onehot5</th>\n",
       "      <th>gender_onehot1</th>\n",
       "      <th>gender_onehot2</th>\n",
       "      <th>cost/driver</th>\n",
       "      <th>cost/vehicle</th>\n",
       "      <th>income/driver</th>\n",
       "      <th>income/vehicle</th>\n",
       "      <th>vehicle/driver</th>\n",
       "    </tr>\n",
       "  </thead>\n",
       "  <tbody>\n",
       "    <tr>\n",
       "      <th>0</th>\n",
       "      <td>56</td>\n",
       "      <td>0.005737</td>\n",
       "      <td>62717</td>\n",
       "      <td>2</td>\n",
       "      <td>1</td>\n",
       "      <td>4</td>\n",
       "      <td>0</td>\n",
       "      <td>1.0</td>\n",
       "      <td>0.0</td>\n",
       "      <td>0.0</td>\n",
       "      <td>...</td>\n",
       "      <td>1.0</td>\n",
       "      <td>0.0</td>\n",
       "      <td>0.0</td>\n",
       "      <td>0.0</td>\n",
       "      <td>1.0</td>\n",
       "      <td>0.002868</td>\n",
       "      <td>0.005737</td>\n",
       "      <td>31358.5</td>\n",
       "      <td>62717.000000</td>\n",
       "      <td>0.5</td>\n",
       "    </tr>\n",
       "    <tr>\n",
       "      <th>1</th>\n",
       "      <td>50</td>\n",
       "      <td>0.004733</td>\n",
       "      <td>64328</td>\n",
       "      <td>2</td>\n",
       "      <td>3</td>\n",
       "      <td>2</td>\n",
       "      <td>0</td>\n",
       "      <td>1.0</td>\n",
       "      <td>0.0</td>\n",
       "      <td>0.0</td>\n",
       "      <td>...</td>\n",
       "      <td>0.0</td>\n",
       "      <td>0.0</td>\n",
       "      <td>0.0</td>\n",
       "      <td>1.0</td>\n",
       "      <td>0.0</td>\n",
       "      <td>0.002366</td>\n",
       "      <td>0.001578</td>\n",
       "      <td>32164.0</td>\n",
       "      <td>21442.666667</td>\n",
       "      <td>1.5</td>\n",
       "    </tr>\n",
       "    <tr>\n",
       "      <th>2</th>\n",
       "      <td>54</td>\n",
       "      <td>0.004129</td>\n",
       "      <td>83439</td>\n",
       "      <td>1</td>\n",
       "      <td>3</td>\n",
       "      <td>7</td>\n",
       "      <td>0</td>\n",
       "      <td>1.0</td>\n",
       "      <td>0.0</td>\n",
       "      <td>0.0</td>\n",
       "      <td>...</td>\n",
       "      <td>0.0</td>\n",
       "      <td>1.0</td>\n",
       "      <td>0.0</td>\n",
       "      <td>0.0</td>\n",
       "      <td>1.0</td>\n",
       "      <td>0.004129</td>\n",
       "      <td>0.001376</td>\n",
       "      <td>83439.0</td>\n",
       "      <td>27813.000000</td>\n",
       "      <td>3.0</td>\n",
       "    </tr>\n",
       "    <tr>\n",
       "      <th>3</th>\n",
       "      <td>16</td>\n",
       "      <td>0.005117</td>\n",
       "      <td>30110</td>\n",
       "      <td>2</td>\n",
       "      <td>3</td>\n",
       "      <td>0</td>\n",
       "      <td>0</td>\n",
       "      <td>1.0</td>\n",
       "      <td>0.0</td>\n",
       "      <td>1.0</td>\n",
       "      <td>...</td>\n",
       "      <td>0.0</td>\n",
       "      <td>0.0</td>\n",
       "      <td>0.0</td>\n",
       "      <td>1.0</td>\n",
       "      <td>0.0</td>\n",
       "      <td>0.002559</td>\n",
       "      <td>0.001706</td>\n",
       "      <td>15055.0</td>\n",
       "      <td>10036.666667</td>\n",
       "      <td>1.5</td>\n",
       "    </tr>\n",
       "    <tr>\n",
       "      <th>4</th>\n",
       "      <td>37</td>\n",
       "      <td>0.003635</td>\n",
       "      <td>76565</td>\n",
       "      <td>2</td>\n",
       "      <td>1</td>\n",
       "      <td>5</td>\n",
       "      <td>0</td>\n",
       "      <td>1.0</td>\n",
       "      <td>0.0</td>\n",
       "      <td>0.0</td>\n",
       "      <td>...</td>\n",
       "      <td>0.0</td>\n",
       "      <td>0.0</td>\n",
       "      <td>0.0</td>\n",
       "      <td>0.0</td>\n",
       "      <td>1.0</td>\n",
       "      <td>0.001817</td>\n",
       "      <td>0.003635</td>\n",
       "      <td>38282.5</td>\n",
       "      <td>76565.000000</td>\n",
       "      <td>0.5</td>\n",
       "    </tr>\n",
       "  </tbody>\n",
       "</table>\n",
       "<p>5 rows × 21 columns</p>\n",
       "</div>"
      ],
      "text/plain": [
       "   age  cost_of_ad  income  n_drivers  n_vehicles  prior_ins_tenure  outcome  \\\n",
       "0   56    0.005737   62717          2           1                 4        0   \n",
       "1   50    0.004733   64328          2           3                 2        0   \n",
       "2   54    0.004129   83439          1           3                 7        0   \n",
       "3   16    0.005117   30110          2           3                 0        0   \n",
       "4   37    0.003635   76565          2           1                 5        0   \n",
       "\n",
       "   location_onehot1  location_onehot2  device_onehot1  ...  device_onehot3  \\\n",
       "0               1.0               0.0             0.0  ...             1.0   \n",
       "1               1.0               0.0             0.0  ...             0.0   \n",
       "2               1.0               0.0             0.0  ...             0.0   \n",
       "3               1.0               0.0             1.0  ...             0.0   \n",
       "4               1.0               0.0             0.0  ...             0.0   \n",
       "\n",
       "   device_onehot4  device_onehot5  gender_onehot1  gender_onehot2  \\\n",
       "0             0.0             0.0             0.0             1.0   \n",
       "1             0.0             0.0             1.0             0.0   \n",
       "2             1.0             0.0             0.0             1.0   \n",
       "3             0.0             0.0             1.0             0.0   \n",
       "4             0.0             0.0             0.0             1.0   \n",
       "\n",
       "   cost/driver  cost/vehicle  income/driver  income/vehicle  vehicle/driver  \n",
       "0     0.002868      0.005737        31358.5    62717.000000             0.5  \n",
       "1     0.002366      0.001578        32164.0    21442.666667             1.5  \n",
       "2     0.004129      0.001376        83439.0    27813.000000             3.0  \n",
       "3     0.002559      0.001706        15055.0    10036.666667             1.5  \n",
       "4     0.001817      0.003635        38282.5    76565.000000             0.5  \n",
       "\n",
       "[5 rows x 21 columns]"
      ]
     },
     "execution_count": 26,
     "metadata": {},
     "output_type": "execute_result"
    }
   ],
   "source": [
    "train_more_features = data_preprocessing(train_df, use_scale=False, scale=MinMaxScaler())\n",
    "train_more_features['cost/driver'] = train_more_features['cost_of_ad']/train_more_features['n_drivers']\n",
    "train_more_features['cost/vehicle'] = train_more_features['cost_of_ad']/train_more_features['n_vehicles']\n",
    "train_more_features['income/driver'] = train_more_features['income']/train_more_features['n_drivers']\n",
    "train_more_features['income/vehicle'] = train_more_features['income']/train_more_features['n_vehicles']\n",
    "train_more_features['vehicle/driver'] = train_more_features['n_vehicles']/train_more_features['n_drivers']\n",
    "train_more_features.head()"
   ]
  },
  {
   "cell_type": "code",
   "execution_count": 27,
   "metadata": {},
   "outputs": [
    {
     "data": {
      "text/html": [
       "<div>\n",
       "<style scoped>\n",
       "    .dataframe tbody tr th:only-of-type {\n",
       "        vertical-align: middle;\n",
       "    }\n",
       "\n",
       "    .dataframe tbody tr th {\n",
       "        vertical-align: top;\n",
       "    }\n",
       "\n",
       "    .dataframe thead th {\n",
       "        text-align: right;\n",
       "    }\n",
       "</style>\n",
       "<table border=\"1\" class=\"dataframe\">\n",
       "  <thead>\n",
       "    <tr style=\"text-align: right;\">\n",
       "      <th></th>\n",
       "      <th>age</th>\n",
       "      <th>cost_of_ad</th>\n",
       "      <th>income</th>\n",
       "      <th>n_drivers</th>\n",
       "      <th>n_vehicles</th>\n",
       "      <th>prior_ins_tenure</th>\n",
       "      <th>outcome</th>\n",
       "      <th>location_onehot1</th>\n",
       "      <th>location_onehot2</th>\n",
       "      <th>device_onehot1</th>\n",
       "      <th>...</th>\n",
       "      <th>device_onehot3</th>\n",
       "      <th>device_onehot4</th>\n",
       "      <th>device_onehot5</th>\n",
       "      <th>gender_onehot1</th>\n",
       "      <th>gender_onehot2</th>\n",
       "      <th>cost/driver</th>\n",
       "      <th>cost/vehicle</th>\n",
       "      <th>income/driver</th>\n",
       "      <th>income/vehicle</th>\n",
       "      <th>vehicle/driver</th>\n",
       "    </tr>\n",
       "  </thead>\n",
       "  <tbody>\n",
       "    <tr>\n",
       "      <th>0</th>\n",
       "      <td>0.909091</td>\n",
       "      <td>0.656134</td>\n",
       "      <td>0.555169</td>\n",
       "      <td>1.0</td>\n",
       "      <td>0.0</td>\n",
       "      <td>0.181818</td>\n",
       "      <td>0</td>\n",
       "      <td>1.0</td>\n",
       "      <td>0.0</td>\n",
       "      <td>0.0</td>\n",
       "      <td>...</td>\n",
       "      <td>1.0</td>\n",
       "      <td>0.0</td>\n",
       "      <td>0.0</td>\n",
       "      <td>0.0</td>\n",
       "      <td>1.0</td>\n",
       "      <td>0.234385</td>\n",
       "      <td>0.776455</td>\n",
       "      <td>0.254021</td>\n",
       "      <td>0.608397</td>\n",
       "      <td>0.0</td>\n",
       "    </tr>\n",
       "    <tr>\n",
       "      <th>1</th>\n",
       "      <td>0.772727</td>\n",
       "      <td>0.399411</td>\n",
       "      <td>0.574413</td>\n",
       "      <td>1.0</td>\n",
       "      <td>1.0</td>\n",
       "      <td>0.090909</td>\n",
       "      <td>0</td>\n",
       "      <td>1.0</td>\n",
       "      <td>0.0</td>\n",
       "      <td>0.0</td>\n",
       "      <td>...</td>\n",
       "      <td>0.0</td>\n",
       "      <td>0.0</td>\n",
       "      <td>0.0</td>\n",
       "      <td>1.0</td>\n",
       "      <td>0.0</td>\n",
       "      <td>0.142678</td>\n",
       "      <td>0.085113</td>\n",
       "      <td>0.262827</td>\n",
       "      <td>0.170182</td>\n",
       "      <td>0.4</td>\n",
       "    </tr>\n",
       "    <tr>\n",
       "      <th>2</th>\n",
       "      <td>0.863636</td>\n",
       "      <td>0.245129</td>\n",
       "      <td>0.802700</td>\n",
       "      <td>0.0</td>\n",
       "      <td>1.0</td>\n",
       "      <td>0.318182</td>\n",
       "      <td>0</td>\n",
       "      <td>1.0</td>\n",
       "      <td>0.0</td>\n",
       "      <td>0.0</td>\n",
       "      <td>...</td>\n",
       "      <td>0.0</td>\n",
       "      <td>1.0</td>\n",
       "      <td>0.0</td>\n",
       "      <td>0.0</td>\n",
       "      <td>1.0</td>\n",
       "      <td>0.464724</td>\n",
       "      <td>0.051680</td>\n",
       "      <td>0.823328</td>\n",
       "      <td>0.237817</td>\n",
       "      <td>1.0</td>\n",
       "    </tr>\n",
       "    <tr>\n",
       "      <th>3</th>\n",
       "      <td>0.000000</td>\n",
       "      <td>0.497737</td>\n",
       "      <td>0.165669</td>\n",
       "      <td>1.0</td>\n",
       "      <td>1.0</td>\n",
       "      <td>0.000000</td>\n",
       "      <td>0</td>\n",
       "      <td>1.0</td>\n",
       "      <td>0.0</td>\n",
       "      <td>1.0</td>\n",
       "      <td>...</td>\n",
       "      <td>0.0</td>\n",
       "      <td>0.0</td>\n",
       "      <td>0.0</td>\n",
       "      <td>1.0</td>\n",
       "      <td>0.0</td>\n",
       "      <td>0.177802</td>\n",
       "      <td>0.106420</td>\n",
       "      <td>0.075803</td>\n",
       "      <td>0.049083</td>\n",
       "      <td>0.4</td>\n",
       "    </tr>\n",
       "    <tr>\n",
       "      <th>4</th>\n",
       "      <td>0.477273</td>\n",
       "      <td>0.118628</td>\n",
       "      <td>0.720588</td>\n",
       "      <td>1.0</td>\n",
       "      <td>0.0</td>\n",
       "      <td>0.227273</td>\n",
       "      <td>0</td>\n",
       "      <td>1.0</td>\n",
       "      <td>0.0</td>\n",
       "      <td>0.0</td>\n",
       "      <td>...</td>\n",
       "      <td>0.0</td>\n",
       "      <td>0.0</td>\n",
       "      <td>0.0</td>\n",
       "      <td>0.0</td>\n",
       "      <td>1.0</td>\n",
       "      <td>0.042377</td>\n",
       "      <td>0.427026</td>\n",
       "      <td>0.329710</td>\n",
       "      <td>0.755424</td>\n",
       "      <td>0.0</td>\n",
       "    </tr>\n",
       "  </tbody>\n",
       "</table>\n",
       "<p>5 rows × 21 columns</p>\n",
       "</div>"
      ],
      "text/plain": [
       "        age  cost_of_ad    income  n_drivers  n_vehicles  prior_ins_tenure  \\\n",
       "0  0.909091    0.656134  0.555169        1.0         0.0          0.181818   \n",
       "1  0.772727    0.399411  0.574413        1.0         1.0          0.090909   \n",
       "2  0.863636    0.245129  0.802700        0.0         1.0          0.318182   \n",
       "3  0.000000    0.497737  0.165669        1.0         1.0          0.000000   \n",
       "4  0.477273    0.118628  0.720588        1.0         0.0          0.227273   \n",
       "\n",
       "   outcome  location_onehot1  location_onehot2  device_onehot1  ...  \\\n",
       "0        0               1.0               0.0             0.0  ...   \n",
       "1        0               1.0               0.0             0.0  ...   \n",
       "2        0               1.0               0.0             0.0  ...   \n",
       "3        0               1.0               0.0             1.0  ...   \n",
       "4        0               1.0               0.0             0.0  ...   \n",
       "\n",
       "   device_onehot3  device_onehot4  device_onehot5  gender_onehot1  \\\n",
       "0             1.0             0.0             0.0             0.0   \n",
       "1             0.0             0.0             0.0             1.0   \n",
       "2             0.0             1.0             0.0             0.0   \n",
       "3             0.0             0.0             0.0             1.0   \n",
       "4             0.0             0.0             0.0             0.0   \n",
       "\n",
       "   gender_onehot2  cost/driver  cost/vehicle  income/driver  income/vehicle  \\\n",
       "0             1.0     0.234385      0.776455       0.254021        0.608397   \n",
       "1             0.0     0.142678      0.085113       0.262827        0.170182   \n",
       "2             1.0     0.464724      0.051680       0.823328        0.237817   \n",
       "3             0.0     0.177802      0.106420       0.075803        0.049083   \n",
       "4             1.0     0.042377      0.427026       0.329710        0.755424   \n",
       "\n",
       "   vehicle/driver  \n",
       "0             0.0  \n",
       "1             0.4  \n",
       "2             1.0  \n",
       "3             0.4  \n",
       "4             0.0  \n",
       "\n",
       "[5 rows x 21 columns]"
      ]
     },
     "execution_count": 27,
     "metadata": {},
     "output_type": "execute_result"
    }
   ],
   "source": [
    "num_features = [0,1,2,3,4,5,-5,-4,-3,-2,-1]\n",
    "scale = MinMaxScaler()\n",
    "train_more_features.iloc[:, num_features] = pd.DataFrame(scale.fit_transform(train_more_features.iloc[:,num_features]), columns = train_more_features.iloc[:,num_features].columns)\n",
    "train_more_features.head()"
   ]
  },
  {
   "cell_type": "code",
   "execution_count": 28,
   "metadata": {},
   "outputs": [],
   "source": [
    "X = train_more_features.drop('outcome', axis=1)\n",
    "y = train_more_features['outcome']"
   ]
  },
  {
   "cell_type": "code",
   "execution_count": 29,
   "metadata": {},
   "outputs": [
    {
     "name": "stdout",
     "output_type": "stream",
     "text": [
      "scores:[0.81843353 0.82168311 0.82338285 0.80916465 0.8353393 ], \n",
      " mean:0.8216006845126934\n"
     ]
    }
   ],
   "source": [
    "cv_score = cross_val_score(LogisticRegression(),X, y, scoring='roc_auc', cv=5)\n",
    "print(f\"scores:{cv_score}, \\n mean:{cv_score.mean()}\")"
   ]
  },
  {
   "cell_type": "code",
   "execution_count": 30,
   "metadata": {},
   "outputs": [
    {
     "name": "stdout",
     "output_type": "stream",
     "text": [
      "scores:[0.8179089  0.82922021 0.81051462 0.80414481 0.82885124], \n",
      " mean:0.818127955647105\n"
     ]
    }
   ],
   "source": [
    "cv_score = cross_val_score(RandomForestClassifier(n_estimators=500, random_state=42),X, y, scoring='roc_auc', cv=5)\n",
    "print(f\"scores:{cv_score}, \\n mean:{cv_score.mean()}\")"
   ]
  },
  {
   "cell_type": "code",
   "execution_count": 31,
   "metadata": {},
   "outputs": [
    {
     "name": "stdout",
     "output_type": "stream",
     "text": [
      "scores:[0.81010453 0.815611   0.81660652 0.80789772 0.83158639], \n",
      " mean:0.8163612318643152\n"
     ]
    }
   ],
   "source": [
    "cv_score = cross_val_score(LinearDiscriminantAnalysis(),X, y, scoring='roc_auc', cv=5)\n",
    "print(f\"scores:{cv_score}, \\n mean:{cv_score.mean()}\")"
   ]
  },
  {
   "cell_type": "markdown",
   "metadata": {},
   "source": [
    "**observation**: \n",
    "- several engieered features are effective to lr"
   ]
  },
  {
   "cell_type": "markdown",
   "metadata": {},
   "source": [
    "# Train test split training"
   ]
  },
  {
   "cell_type": "code",
   "execution_count": 32,
   "metadata": {},
   "outputs": [],
   "source": [
    "from sklearn.model_selection import StratifiedShuffleSplit\n",
    "\n",
    "split = StratifiedShuffleSplit(n_splits=1, test_size=0.3, random_state=42)\n",
    "for train_index, test_index in split.split(X, y):\n",
    "    strat_train_set = train.loc[train_index]\n",
    "    strat_test_set = train.loc[test_index]"
   ]
  },
  {
   "cell_type": "code",
   "execution_count": 33,
   "metadata": {},
   "outputs": [],
   "source": [
    "X_train = strat_train_set.drop('outcome', axis=1)\n",
    "y_train = strat_train_set['outcome']\n",
    "X_test = strat_test_set.drop('outcome', axis=1)\n",
    "y_test = strat_test_set['outcome']"
   ]
  },
  {
   "cell_type": "code",
   "execution_count": 34,
   "metadata": {},
   "outputs": [],
   "source": [
    "from sklearn import metrics"
   ]
  },
  {
   "cell_type": "code",
   "execution_count": 35,
   "metadata": {},
   "outputs": [],
   "source": [
    "def train_model(model, x_train, y_train, x_test, y_test):\n",
    "    model.fit(x_train, y_train)\n",
    "    \n",
    "    y_pred = model.predict(x_test)\n",
    "    y_scores = model.predict_proba(x_test)\n",
    "\n",
    "    return model, metrics.roc_auc_score(y_test, y_scores[:,1])"
   ]
  },
  {
   "cell_type": "code",
   "execution_count": 36,
   "metadata": {},
   "outputs": [
    {
     "name": "stdout",
     "output_type": "stream",
     "text": [
      "0.8143087189448291\n"
     ]
    }
   ],
   "source": [
    "_, auc = train_model(LogisticRegression(), X_train, y_train, X_test, y_test)\n",
    "print(auc)"
   ]
  },
  {
   "cell_type": "code",
   "execution_count": 37,
   "metadata": {},
   "outputs": [
    {
     "name": "stdout",
     "output_type": "stream",
     "text": [
      "0.7650296061906701\n"
     ]
    }
   ],
   "source": [
    "_, auc = train_model(SVC(probability=True), X_train, y_train, X_test, y_test)\n",
    "print(auc)"
   ]
  },
  {
   "cell_type": "code",
   "execution_count": 38,
   "metadata": {},
   "outputs": [
    {
     "name": "stdout",
     "output_type": "stream",
     "text": [
      "0.6303048341113443\n"
     ]
    }
   ],
   "source": [
    "_, auc = train_model(DecisionTreeClassifier(), X_train, y_train, X_test, y_test)\n",
    "print(auc)"
   ]
  },
  {
   "cell_type": "code",
   "execution_count": 39,
   "metadata": {},
   "outputs": [
    {
     "name": "stdout",
     "output_type": "stream",
     "text": [
      "0.8298267489583007\n"
     ]
    }
   ],
   "source": [
    "rf, auc = train_model(RandomForestClassifier(n_estimators=500, random_state=42), X_train, y_train, X_test, y_test)\n",
    "print(auc)"
   ]
  },
  {
   "cell_type": "code",
   "execution_count": 40,
   "metadata": {},
   "outputs": [
    {
     "data": {
      "text/html": [
       "<div>\n",
       "<style scoped>\n",
       "    .dataframe tbody tr th:only-of-type {\n",
       "        vertical-align: middle;\n",
       "    }\n",
       "\n",
       "    .dataframe tbody tr th {\n",
       "        vertical-align: top;\n",
       "    }\n",
       "\n",
       "    .dataframe thead th {\n",
       "        text-align: right;\n",
       "    }\n",
       "</style>\n",
       "<table border=\"1\" class=\"dataframe\">\n",
       "  <thead>\n",
       "    <tr style=\"text-align: right;\">\n",
       "      <th></th>\n",
       "      <th>0</th>\n",
       "    </tr>\n",
       "  </thead>\n",
       "  <tbody>\n",
       "    <tr>\n",
       "      <th>cost_of_ad</th>\n",
       "      <td>0.222197</td>\n",
       "    </tr>\n",
       "    <tr>\n",
       "      <th>income</th>\n",
       "      <td>0.214377</td>\n",
       "    </tr>\n",
       "    <tr>\n",
       "      <th>age</th>\n",
       "      <td>0.175152</td>\n",
       "    </tr>\n",
       "    <tr>\n",
       "      <th>prior_ins_tenure</th>\n",
       "      <td>0.121928</td>\n",
       "    </tr>\n",
       "    <tr>\n",
       "      <th>n_vehicles</th>\n",
       "      <td>0.073676</td>\n",
       "    </tr>\n",
       "    <tr>\n",
       "      <th>n_drivers</th>\n",
       "      <td>0.039821</td>\n",
       "    </tr>\n",
       "    <tr>\n",
       "      <th>device_onehot2</th>\n",
       "      <td>0.025592</td>\n",
       "    </tr>\n",
       "    <tr>\n",
       "      <th>device_onehot1</th>\n",
       "      <td>0.020129</td>\n",
       "    </tr>\n",
       "    <tr>\n",
       "      <th>device_onehot4</th>\n",
       "      <td>0.018491</td>\n",
       "    </tr>\n",
       "    <tr>\n",
       "      <th>location_onehot2</th>\n",
       "      <td>0.017569</td>\n",
       "    </tr>\n",
       "    <tr>\n",
       "      <th>location_onehot1</th>\n",
       "      <td>0.017537</td>\n",
       "    </tr>\n",
       "    <tr>\n",
       "      <th>gender_onehot1</th>\n",
       "      <td>0.015432</td>\n",
       "    </tr>\n",
       "    <tr>\n",
       "      <th>gender_onehot2</th>\n",
       "      <td>0.015252</td>\n",
       "    </tr>\n",
       "    <tr>\n",
       "      <th>device_onehot5</th>\n",
       "      <td>0.014045</td>\n",
       "    </tr>\n",
       "    <tr>\n",
       "      <th>device_onehot3</th>\n",
       "      <td>0.008804</td>\n",
       "    </tr>\n",
       "  </tbody>\n",
       "</table>\n",
       "</div>"
      ],
      "text/plain": [
       "                         0\n",
       "cost_of_ad        0.222197\n",
       "income            0.214377\n",
       "age               0.175152\n",
       "prior_ins_tenure  0.121928\n",
       "n_vehicles        0.073676\n",
       "n_drivers         0.039821\n",
       "device_onehot2    0.025592\n",
       "device_onehot1    0.020129\n",
       "device_onehot4    0.018491\n",
       "location_onehot2  0.017569\n",
       "location_onehot1  0.017537\n",
       "gender_onehot1    0.015432\n",
       "gender_onehot2    0.015252\n",
       "device_onehot5    0.014045\n",
       "device_onehot3    0.008804"
      ]
     },
     "execution_count": 40,
     "metadata": {},
     "output_type": "execute_result"
    }
   ],
   "source": [
    "pd.DataFrame(rf.feature_importances_, index = train.drop('outcome', axis=1).columns).sort_values(by=[0], ascending=False)"
   ]
  },
  {
   "cell_type": "code",
   "execution_count": 41,
   "metadata": {},
   "outputs": [
    {
     "name": "stdout",
     "output_type": "stream",
     "text": [
      "0.8156245496412795\n"
     ]
    }
   ],
   "source": [
    "_, auc = train_model(LinearDiscriminantAnalysis(), X_train, y_train, X_test, y_test)\n",
    "print(auc)"
   ]
  },
  {
   "cell_type": "code",
   "execution_count": 42,
   "metadata": {},
   "outputs": [],
   "source": [
    "def zero_classifier(X):\n",
    "    return np.zeros(len(X))"
   ]
  },
  {
   "cell_type": "code",
   "execution_count": 43,
   "metadata": {},
   "outputs": [
    {
     "data": {
      "text/plain": [
       "array([0., 0., 0., ..., 0., 0., 0.])"
      ]
     },
     "execution_count": 43,
     "metadata": {},
     "output_type": "execute_result"
    }
   ],
   "source": [
    "zero_classifier(X_test)"
   ]
  },
  {
   "cell_type": "code",
   "execution_count": 44,
   "metadata": {},
   "outputs": [
    {
     "data": {
      "text/plain": [
       "0.5"
      ]
     },
     "execution_count": 44,
     "metadata": {},
     "output_type": "execute_result"
    }
   ],
   "source": [
    "metrics.roc_auc_score(y_test, zero_classifier(X_test))"
   ]
  },
  {
   "cell_type": "code",
   "execution_count": 45,
   "metadata": {},
   "outputs": [],
   "source": [
    "from sklearn.model_selection import cross_val_predict"
   ]
  },
  {
   "cell_type": "code",
   "execution_count": 46,
   "metadata": {},
   "outputs": [],
   "source": [
    "from sklearn.metrics import roc_curve\n",
    "\n",
    "model_dict = {'lr': LogisticRegression(),\n",
    "              'svm': SVC(probability=True), \n",
    "              'cart': DecisionTreeClassifier(), \n",
    "              'rf': RandomForestClassifier(),\n",
    "              'ldr': LinearDiscriminantAnalysis(),\n",
    "             }\n",
    "\n",
    "fprs = []\n",
    "tprs = []\n",
    "\n",
    "for i, model in enumerate(model_dict):\n",
    "    y_scores = cross_val_predict(model_dict[model], X_train, y_train, cv=3, method=\"predict_proba\")[:, 1]\n",
    "    fpr, tpr, thresholds = roc_curve(y_train, y_scores)\n",
    "    fprs.append(fpr)\n",
    "    tprs.append(tpr)"
   ]
  },
  {
   "cell_type": "code",
   "execution_count": 47,
   "metadata": {},
   "outputs": [
    {
     "data": {
      "image/png": "[encoded data removed]",
      "text/plain": [
       "<Figure size 432x288 with 1 Axes>"
      ]
     },
     "metadata": {
      "needs_background": "light"
     },
     "output_type": "display_data"
    }
   ],
   "source": [
    "def plot_roc_curve(fpr, tpr, label=None):\n",
    "    plt.plot(fpr, tpr, linewidth=2, label=label)\n",
    "    plt.plot([0, 1], [0, 1], 'k--')\n",
    "    plt.axis([0, 1, 0, 1])\n",
    "    plt.xlabel('False Positive Rate')\n",
    "    plt.ylabel('True Positive Rate')\n",
    "\n",
    "for i, model in enumerate(model_dict):\n",
    "    plot_roc_curve(fprs[i], tprs[i], model)\n",
    "    \n",
    "plt.legend()\n",
    "plt.show()\n"
   ]
  },
  {
   "cell_type": "markdown",
   "metadata": {},
   "source": [
    "# Grid search"
   ]
  },
  {
   "cell_type": "code",
   "execution_count": 48,
   "metadata": {},
   "outputs": [],
   "source": [
    "from sklearn.model_selection import GridSearchCV"
   ]
  },
  {
   "cell_type": "code",
   "execution_count": 49,
   "metadata": {},
   "outputs": [
    {
     "data": {
      "text/plain": [
       "RandomForestClassifier(bootstrap=True, ccp_alpha=0.0, class_weight=None,\n",
       "                       criterion='gini', max_depth=None, max_features='auto',\n",
       "                       max_leaf_nodes=None, max_samples=None,\n",
       "                       min_impurity_decrease=0.0, min_impurity_split=None,\n",
       "                       min_samples_leaf=1, min_samples_split=2,\n",
       "                       min_weight_fraction_leaf=0.0, n_estimators=100,\n",
       "                       n_jobs=None, oob_score=False, random_state=None,\n",
       "                       verbose=0, warm_start=False)"
      ]
     },
     "execution_count": 49,
     "metadata": {},
     "output_type": "execute_result"
    }
   ],
   "source": [
    "RandomForestClassifier()"
   ]
  },
  {
   "cell_type": "code",
   "execution_count": 50,
   "metadata": {
    "lines_to_next_cell": 2
   },
   "outputs": [
    {
     "name": "stdout",
     "output_type": "stream",
     "text": [
      "Fitting 5 folds for each of 15 candidates, totalling 75 fits\n"
     ]
    },
    {
     "name": "stderr",
     "output_type": "stream",
     "text": [
      "[Parallel(n_jobs=8)]: Using backend LokyBackend with 8 concurrent workers.\n",
      "[Parallel(n_jobs=8)]: Done  25 tasks      | elapsed:    5.5s\n",
      "[Parallel(n_jobs=8)]: Done  75 out of  75 | elapsed:   27.8s finished\n"
     ]
    },
    {
     "data": {
      "text/plain": [
       "GridSearchCV(cv=5, error_score=nan,\n",
       "             estimator=RandomForestClassifier(bootstrap=True, ccp_alpha=0.0,\n",
       "                                              class_weight=None,\n",
       "                                              criterion='gini', max_depth=None,\n",
       "                                              max_features='auto',\n",
       "                                              max_leaf_nodes=None,\n",
       "                                              max_samples=None,\n",
       "                                              min_impurity_decrease=0.0,\n",
       "                                              min_impurity_split=None,\n",
       "                                              min_samples_leaf=1,\n",
       "                                              min_samples_split=2,\n",
       "                                              min_weight_fraction_leaf=0.0,\n",
       "                                              n_estimators=100, n_jobs=None,\n",
       "                                              oob_score=False,\n",
       "                                              random_state=None, verbose=0,\n",
       "                                              warm_start=False),\n",
       "             iid='deprecated', n_jobs=8,\n",
       "             param_grid=[{'max_features': array([ 3,  6,  9, 12, 15]),\n",
       "                          'n_estimators': [50, 100, 200]}],\n",
       "             pre_dispatch='2*n_jobs', refit=True, return_train_score=False,\n",
       "             scoring='roc_auc', verbose=2)"
      ]
     },
     "execution_count": 50,
     "metadata": {},
     "output_type": "execute_result"
    }
   ],
   "source": [
    "param_grid = [{'n_estimators': [50, 100, 200], 'max_features': np.arange(3,16,3)},\n",
    "              \n",
    "             ]\n",
    "rf = RandomForestClassifier()\n",
    "grid_search = GridSearchCV(rf, param_grid, cv=5,\n",
    "                           scoring='roc_auc', verbose=2, n_jobs=8)\n",
    "grid_search.fit(X, y)"
   ]
  },
  {
   "cell_type": "code",
   "execution_count": 51,
   "metadata": {},
   "outputs": [
    {
     "data": {
      "text/plain": [
       "{'max_features': 3, 'n_estimators': 200}"
      ]
     },
     "execution_count": 51,
     "metadata": {},
     "output_type": "execute_result"
    }
   ],
   "source": [
    "grid_search.best_params_"
   ]
  },
  {
   "cell_type": "code",
   "execution_count": 52,
   "metadata": {},
   "outputs": [
    {
     "data": {
      "text/plain": [
       "RandomForestClassifier(bootstrap=True, ccp_alpha=0.0, class_weight=None,\n",
       "                       criterion='gini', max_depth=None, max_features=3,\n",
       "                       max_leaf_nodes=None, max_samples=None,\n",
       "                       min_impurity_decrease=0.0, min_impurity_split=None,\n",
       "                       min_samples_leaf=1, min_samples_split=2,\n",
       "                       min_weight_fraction_leaf=0.0, n_estimators=200,\n",
       "                       n_jobs=None, oob_score=False, random_state=None,\n",
       "                       verbose=0, warm_start=False)"
      ]
     },
     "execution_count": 52,
     "metadata": {},
     "output_type": "execute_result"
    }
   ],
   "source": [
    "grid_search.best_estimator_"
   ]
  },
  {
   "cell_type": "code",
   "execution_count": 53,
   "metadata": {},
   "outputs": [],
   "source": [
    "cvres = grid_search.cv_results_"
   ]
  },
  {
   "cell_type": "code",
   "execution_count": 54,
   "metadata": {},
   "outputs": [
    {
     "name": "stdout",
     "output_type": "stream",
     "text": [
      "0.8095969996014107 {'max_features': 3, 'n_estimators': 50}\n",
      "0.8152178242409734 {'max_features': 3, 'n_estimators': 100}\n",
      "0.8177648186567359 {'max_features': 3, 'n_estimators': 200}\n",
      "0.8064774789743465 {'max_features': 6, 'n_estimators': 50}\n",
      "0.8130482294620851 {'max_features': 6, 'n_estimators': 100}\n",
      "0.8154376752289394 {'max_features': 6, 'n_estimators': 200}\n",
      "0.804038432567993 {'max_features': 9, 'n_estimators': 50}\n",
      "0.8086056364403333 {'max_features': 9, 'n_estimators': 100}\n",
      "0.811204617298183 {'max_features': 9, 'n_estimators': 200}\n",
      "0.8046902833595816 {'max_features': 12, 'n_estimators': 50}\n",
      "0.809340871281836 {'max_features': 12, 'n_estimators': 100}\n",
      "0.8102874639228709 {'max_features': 12, 'n_estimators': 200}\n",
      "0.800881867452607 {'max_features': 15, 'n_estimators': 50}\n",
      "0.8084147808852645 {'max_features': 15, 'n_estimators': 100}\n",
      "0.8085788642905269 {'max_features': 15, 'n_estimators': 200}\n"
     ]
    }
   ],
   "source": [
    "for mean_score, params in zip(cvres['mean_test_score'], cvres['params']):\n",
    "    print(mean_score, params)"
   ]
  },
  {
   "cell_type": "markdown",
   "metadata": {},
   "source": [
    "# XGboost"
   ]
  },
  {
   "cell_type": "code",
   "execution_count": 89,
   "metadata": {},
   "outputs": [],
   "source": [
    "from xgboost import XGBClassifier"
   ]
  },
  {
   "cell_type": "code",
   "execution_count": 90,
   "metadata": {},
   "outputs": [
    {
     "name": "stdout",
     "output_type": "stream",
     "text": [
      "[0]\tvalidation_0-error:0.09033\n",
      "Will train until validation_0-error hasn't improved in 5 rounds.\n",
      "[1]\tvalidation_0-error:0.08900\n",
      "[2]\tvalidation_0-error:0.09167\n",
      "[3]\tvalidation_0-error:0.08900\n",
      "[4]\tvalidation_0-error:0.08767\n",
      "[5]\tvalidation_0-error:0.08833\n",
      "[6]\tvalidation_0-error:0.08900\n",
      "[7]\tvalidation_0-error:0.08767\n",
      "[8]\tvalidation_0-error:0.08833\n",
      "[9]\tvalidation_0-error:0.08700\n",
      "[10]\tvalidation_0-error:0.08833\n",
      "[11]\tvalidation_0-error:0.08767\n",
      "[12]\tvalidation_0-error:0.08700\n",
      "[13]\tvalidation_0-error:0.08733\n",
      "[14]\tvalidation_0-error:0.08667\n",
      "[15]\tvalidation_0-error:0.08700\n",
      "[16]\tvalidation_0-error:0.08767\n",
      "[17]\tvalidation_0-error:0.08767\n",
      "[18]\tvalidation_0-error:0.08800\n",
      "[19]\tvalidation_0-error:0.08833\n",
      "Stopping. Best iteration:\n",
      "[14]\tvalidation_0-error:0.08667\n",
      "\n"
     ]
    },
    {
     "data": {
      "text/plain": [
       "0.8420514427143708"
      ]
     },
     "execution_count": 90,
     "metadata": {},
     "output_type": "execute_result"
    }
   ],
   "source": [
    "#early stopping strategy\n",
    "my_model = XGBClassifier(n_estimators=100, learning_rate=0.3)\n",
    "\n",
    "my_model.fit(X_train, y_train,\n",
    "             early_stopping_rounds=5,\n",
    "            eval_set=[(X_test, y_test)])\n",
    "\n",
    "y_scores = my_model.predict_proba(X_test)\n",
    "metrics.roc_auc_score(y_test, y_scores[:,1])"
   ]
  },
  {
   "cell_type": "markdown",
   "metadata": {},
   "source": [
    "**Early stopping observation**\n",
    "- Stop at about 15 iterations with learning rate = 0.3"
   ]
  },
  {
   "cell_type": "code",
   "execution_count": 91,
   "metadata": {},
   "outputs": [],
   "source": [
    "#use original train data\n",
    "X = train.drop('outcome', axis=1)\n",
    "y = train['outcome']\n",
    "\n",
    "split = StratifiedShuffleSplit(n_splits=1, test_size=0.3, random_state=42)\n",
    "\n",
    "for train_index, test_index in split.split(X, y):\n",
    "    strat_train_set = train.loc[train_index]\n",
    "    strat_test_set = train.loc[test_index]\n",
    "    \n",
    "X_train = strat_train_set.drop('outcome', axis=1)\n",
    "y_train = strat_train_set['outcome']\n",
    "X_test = strat_test_set.drop('outcome', axis=1)\n",
    "y_test = strat_test_set['outcome']"
   ]
  },
  {
   "cell_type": "code",
   "execution_count": 92,
   "metadata": {},
   "outputs": [
    {
     "name": "stdout",
     "output_type": "stream",
     "text": [
      "cv scores (auc):[0.83668096 0.84324234 0.8550797  0.82366107 0.84430349], \n",
      " mean:0.8405935115572085\n",
      "\n",
      "single split auc: 0.8428910680159154\n"
     ]
    }
   ],
   "source": [
    "cv_score = cross_val_score(XGBClassifier(n_estimators=15, learning_rate=0.3, random_state=42), X, y, scoring='roc_auc', cv=5)\n",
    "print(f\"cv scores (auc):{cv_score}, \\n mean:{cv_score.mean()}\")\n",
    "\n",
    "xg, auc = train_model(XGBClassifier(n_estimators=15, learning_rate=0.3), X_train, y_train, X_test, y_test)\n",
    "print(f\"\\nsingle split auc: {auc}\")"
   ]
  },
  {
   "cell_type": "code",
   "execution_count": 93,
   "metadata": {
    "scrolled": false
   },
   "outputs": [
    {
     "data": {
      "text/html": [
       "<div>\n",
       "<style scoped>\n",
       "    .dataframe tbody tr th:only-of-type {\n",
       "        vertical-align: middle;\n",
       "    }\n",
       "\n",
       "    .dataframe tbody tr th {\n",
       "        vertical-align: top;\n",
       "    }\n",
       "\n",
       "    .dataframe thead th {\n",
       "        text-align: right;\n",
       "    }\n",
       "</style>\n",
       "<table border=\"1\" class=\"dataframe\">\n",
       "  <thead>\n",
       "    <tr style=\"text-align: right;\">\n",
       "      <th></th>\n",
       "      <th>0</th>\n",
       "    </tr>\n",
       "  </thead>\n",
       "  <tbody>\n",
       "    <tr>\n",
       "      <th>n_vehicles</th>\n",
       "      <td>0.173520</td>\n",
       "    </tr>\n",
       "    <tr>\n",
       "      <th>device_onehot4</th>\n",
       "      <td>0.140119</td>\n",
       "    </tr>\n",
       "    <tr>\n",
       "      <th>device_onehot2</th>\n",
       "      <td>0.117608</td>\n",
       "    </tr>\n",
       "    <tr>\n",
       "      <th>gender_onehot1</th>\n",
       "      <td>0.110320</td>\n",
       "    </tr>\n",
       "    <tr>\n",
       "      <th>device_onehot5</th>\n",
       "      <td>0.075761</td>\n",
       "    </tr>\n",
       "    <tr>\n",
       "      <th>device_onehot3</th>\n",
       "      <td>0.066160</td>\n",
       "    </tr>\n",
       "    <tr>\n",
       "      <th>n_drivers</th>\n",
       "      <td>0.065815</td>\n",
       "    </tr>\n",
       "    <tr>\n",
       "      <th>location_onehot1</th>\n",
       "      <td>0.062651</td>\n",
       "    </tr>\n",
       "    <tr>\n",
       "      <th>device_onehot1</th>\n",
       "      <td>0.058133</td>\n",
       "    </tr>\n",
       "    <tr>\n",
       "      <th>prior_ins_tenure</th>\n",
       "      <td>0.034908</td>\n",
       "    </tr>\n",
       "    <tr>\n",
       "      <th>age</th>\n",
       "      <td>0.034603</td>\n",
       "    </tr>\n",
       "    <tr>\n",
       "      <th>cost_of_ad</th>\n",
       "      <td>0.031598</td>\n",
       "    </tr>\n",
       "    <tr>\n",
       "      <th>income</th>\n",
       "      <td>0.028804</td>\n",
       "    </tr>\n",
       "    <tr>\n",
       "      <th>location_onehot2</th>\n",
       "      <td>0.000000</td>\n",
       "    </tr>\n",
       "    <tr>\n",
       "      <th>gender_onehot2</th>\n",
       "      <td>0.000000</td>\n",
       "    </tr>\n",
       "  </tbody>\n",
       "</table>\n",
       "</div>"
      ],
      "text/plain": [
       "                         0\n",
       "n_vehicles        0.173520\n",
       "device_onehot4    0.140119\n",
       "device_onehot2    0.117608\n",
       "gender_onehot1    0.110320\n",
       "device_onehot5    0.075761\n",
       "device_onehot3    0.066160\n",
       "n_drivers         0.065815\n",
       "location_onehot1  0.062651\n",
       "device_onehot1    0.058133\n",
       "prior_ins_tenure  0.034908\n",
       "age               0.034603\n",
       "cost_of_ad        0.031598\n",
       "income            0.028804\n",
       "location_onehot2  0.000000\n",
       "gender_onehot2    0.000000"
      ]
     },
     "execution_count": 93,
     "metadata": {},
     "output_type": "execute_result"
    }
   ],
   "source": [
    "pd.DataFrame(xg.feature_importances_, index = X.columns).sort_values(by=[0], ascending=False)"
   ]
  },
  {
   "cell_type": "code",
   "execution_count": 94,
   "metadata": {},
   "outputs": [],
   "source": [
    "#use train data with more features\n",
    "X = train_more_features.drop('outcome', axis=1)\n",
    "y = train_more_features['outcome']\n",
    "\n",
    "split = StratifiedShuffleSplit(n_splits=1, test_size=0.3, random_state=42)\n",
    "\n",
    "for train_index, test_index in split.split(X, y):\n",
    "    strat_train_set = train_more_features.loc[train_index]\n",
    "    strat_test_set = train_more_features.loc[test_index]\n",
    "    \n",
    "X_train = strat_train_set.drop('outcome', axis=1)\n",
    "y_train = strat_train_set['outcome']\n",
    "X_test = strat_test_set.drop('outcome', axis=1)\n",
    "y_test = strat_test_set['outcome']"
   ]
  },
  {
   "cell_type": "code",
   "execution_count": 95,
   "metadata": {},
   "outputs": [
    {
     "name": "stdout",
     "output_type": "stream",
     "text": [
      "cv scores (auc):[0.83899865 0.84897082 0.84164018 0.81806408 0.84218209], \n",
      " mean:0.8379711663383548\n",
      "single split auc: 0.8420514427143708\n"
     ]
    }
   ],
   "source": [
    "cv_score = cross_val_score(XGBClassifier(n_estimators=15, learning_rate=0.3, random_state=42), X, y, scoring='roc_auc', cv=5)\n",
    "print(f\"cv scores (auc):{cv_score}, \\n mean:{cv_score.mean()}\")\n",
    "\n",
    "xg, auc = train_model(XGBClassifier(n_estimators=15, learning_rate=0.3), X_train, y_train, X_test, y_test)\n",
    "print(f\"single split auc: {auc}\")"
   ]
  },
  {
   "cell_type": "code",
   "execution_count": 96,
   "metadata": {
    "scrolled": false
   },
   "outputs": [
    {
     "data": {
      "text/html": [
       "<div>\n",
       "<style scoped>\n",
       "    .dataframe tbody tr th:only-of-type {\n",
       "        vertical-align: middle;\n",
       "    }\n",
       "\n",
       "    .dataframe tbody tr th {\n",
       "        vertical-align: top;\n",
       "    }\n",
       "\n",
       "    .dataframe thead th {\n",
       "        text-align: right;\n",
       "    }\n",
       "</style>\n",
       "<table border=\"1\" class=\"dataframe\">\n",
       "  <thead>\n",
       "    <tr style=\"text-align: right;\">\n",
       "      <th></th>\n",
       "      <th>0</th>\n",
       "    </tr>\n",
       "  </thead>\n",
       "  <tbody>\n",
       "    <tr>\n",
       "      <th>vehicle/driver</th>\n",
       "      <td>0.247261</td>\n",
       "    </tr>\n",
       "    <tr>\n",
       "      <th>n_vehicles</th>\n",
       "      <td>0.093653</td>\n",
       "    </tr>\n",
       "    <tr>\n",
       "      <th>device_onehot4</th>\n",
       "      <td>0.078977</td>\n",
       "    </tr>\n",
       "    <tr>\n",
       "      <th>device_onehot2</th>\n",
       "      <td>0.076395</td>\n",
       "    </tr>\n",
       "    <tr>\n",
       "      <th>gender_onehot1</th>\n",
       "      <td>0.069864</td>\n",
       "    </tr>\n",
       "    <tr>\n",
       "      <th>n_drivers</th>\n",
       "      <td>0.060680</td>\n",
       "    </tr>\n",
       "    <tr>\n",
       "      <th>location_onehot1</th>\n",
       "      <td>0.050924</td>\n",
       "    </tr>\n",
       "    <tr>\n",
       "      <th>device_onehot5</th>\n",
       "      <td>0.050763</td>\n",
       "    </tr>\n",
       "    <tr>\n",
       "      <th>device_onehot1</th>\n",
       "      <td>0.043313</td>\n",
       "    </tr>\n",
       "    <tr>\n",
       "      <th>device_onehot3</th>\n",
       "      <td>0.033725</td>\n",
       "    </tr>\n",
       "    <tr>\n",
       "      <th>cost/vehicle</th>\n",
       "      <td>0.028318</td>\n",
       "    </tr>\n",
       "    <tr>\n",
       "      <th>cost/driver</th>\n",
       "      <td>0.027592</td>\n",
       "    </tr>\n",
       "    <tr>\n",
       "      <th>age</th>\n",
       "      <td>0.025539</td>\n",
       "    </tr>\n",
       "    <tr>\n",
       "      <th>prior_ins_tenure</th>\n",
       "      <td>0.024025</td>\n",
       "    </tr>\n",
       "    <tr>\n",
       "      <th>income/vehicle</th>\n",
       "      <td>0.024016</td>\n",
       "    </tr>\n",
       "    <tr>\n",
       "      <th>income/driver</th>\n",
       "      <td>0.023337</td>\n",
       "    </tr>\n",
       "    <tr>\n",
       "      <th>income</th>\n",
       "      <td>0.021839</td>\n",
       "    </tr>\n",
       "    <tr>\n",
       "      <th>cost_of_ad</th>\n",
       "      <td>0.019781</td>\n",
       "    </tr>\n",
       "    <tr>\n",
       "      <th>location_onehot2</th>\n",
       "      <td>0.000000</td>\n",
       "    </tr>\n",
       "    <tr>\n",
       "      <th>gender_onehot2</th>\n",
       "      <td>0.000000</td>\n",
       "    </tr>\n",
       "  </tbody>\n",
       "</table>\n",
       "</div>"
      ],
      "text/plain": [
       "                         0\n",
       "vehicle/driver    0.247261\n",
       "n_vehicles        0.093653\n",
       "device_onehot4    0.078977\n",
       "device_onehot2    0.076395\n",
       "gender_onehot1    0.069864\n",
       "n_drivers         0.060680\n",
       "location_onehot1  0.050924\n",
       "device_onehot5    0.050763\n",
       "device_onehot1    0.043313\n",
       "device_onehot3    0.033725\n",
       "cost/vehicle      0.028318\n",
       "cost/driver       0.027592\n",
       "age               0.025539\n",
       "prior_ins_tenure  0.024025\n",
       "income/vehicle    0.024016\n",
       "income/driver     0.023337\n",
       "income            0.021839\n",
       "cost_of_ad        0.019781\n",
       "location_onehot2  0.000000\n",
       "gender_onehot2    0.000000"
      ]
     },
     "execution_count": 96,
     "metadata": {},
     "output_type": "execute_result"
    }
   ],
   "source": [
    "pd.DataFrame(xg.feature_importances_, index = X.columns).sort_values(by=[0], ascending=False)"
   ]
  },
  {
   "cell_type": "code",
   "execution_count": 97,
   "metadata": {},
   "outputs": [],
   "source": [
    "from sklearn.metrics import roc_curve\n",
    "\n",
    "model_dict = {'lr': LogisticRegression(),\n",
    "              'svm': SVC(probability=True), \n",
    "              'cart': DecisionTreeClassifier(), \n",
    "              'rf': RandomForestClassifier(),\n",
    "              'ldr': LinearDiscriminantAnalysis(),\n",
    "              'xgb': XGBClassifier(n_estimators=15, learning_rate=0.3)\n",
    "             }\n",
    "\n",
    "fprs = []\n",
    "tprs = []\n",
    "\n",
    "for i, model in enumerate(model_dict):\n",
    "    y_scores = cross_val_predict(model_dict[model], X_train, y_train, cv=3, method=\"predict_proba\")[:, 1]\n",
    "    fpr, tpr, thresholds = roc_curve(y_train, y_scores)\n",
    "    fprs.append(fpr)\n",
    "    tprs.append(tpr)"
   ]
  },
  {
   "cell_type": "code",
   "execution_count": 98,
   "metadata": {},
   "outputs": [
    {
     "data": {
      "image/png": "[encoded data removed]",
      "text/plain": [
       "<Figure size 432x288 with 1 Axes>"
      ]
     },
     "metadata": {
      "needs_background": "light"
     },
     "output_type": "display_data"
    }
   ],
   "source": [
    "for i, model in enumerate(model_dict):\n",
    "    plot_roc_curve(fprs[i], tprs[i], model)\n",
    "    \n",
    "plt.legend()\n",
    "plt.show()\n"
   ]
  },
  {
   "cell_type": "code",
   "execution_count": null,
   "metadata": {},
   "outputs": [],
   "source": []
  }
 ],
 "metadata": {
  "jupytext": {
   "text_representation": {
    "extension": ".py",
    "format_name": "light",
    "format_version": "1.5",
    "jupytext_version": "1.4.2"
   }
  },
  "kernelspec": {
   "display_name": "Python 3",
   "language": "python",
   "name": "python3"
  },
  "language_info": {
   "codemirror_mode": {
    "name": "ipython",
    "version": 3
   },
   "file_extension": ".py",
   "mimetype": "text/x-python",
   "name": "python",
   "nbconvert_exporter": "python",
   "pygments_lexer": "ipython3",
   "version": "3.7.3"
  },
  "toc": {
   "base_numbering": 1,
   "nav_menu": {},
   "number_sections": true,
   "sideBar": true,
   "skip_h1_title": false,
   "title_cell": "Table of Contents",
   "title_sidebar": "Contents",
   "toc_cell": false,
   "toc_position": {},
   "toc_section_display": true,
   "toc_window_display": true
  }
 },
 "nbformat": 4,
 "nbformat_minor": 2
}
