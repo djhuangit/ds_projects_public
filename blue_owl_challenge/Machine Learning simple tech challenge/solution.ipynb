{
 "cells": [
  {
   "cell_type": "code",
   "execution_count": 1,
   "metadata": {},
   "outputs": [
    {
     "data": {
      "application/javascript": [
       "IPython.notebook.set_autosave_interval(0)"
      ]
     },
     "metadata": {},
     "output_type": "display_data"
    },
    {
     "name": "stdout",
     "output_type": "stream",
     "text": [
      "Autosave disabled\n"
     ]
    }
   ],
   "source": [
    "%autosave 0"
   ]
  },
  {
   "cell_type": "markdown",
   "metadata": {},
   "source": [
    "ideas:\n",
    "1. data processing - one hot encoding, normalization\n",
    "2. quick EDA\n",
    "3. set up cv5\n",
    "4. get a baseline performance by using the data as it is with a few models (lr, svm, random forest, lda)\n",
    "5. feature engineering and re-train"
   ]
  },
  {
   "cell_type": "markdown",
   "metadata": {},
   "source": [
    "# Data import and cleaning"
   ]
  },
  {
   "cell_type": "code",
   "execution_count": 63,
   "metadata": {},
   "outputs": [],
   "source": [
    "train_path = \"data/train.csv\"\n",
    "test_path = \"data/test.csv\""
   ]
  },
  {
   "cell_type": "code",
   "execution_count": 64,
   "metadata": {},
   "outputs": [],
   "source": [
    "import numpy as np\n",
    "import pandas as pd"
   ]
  },
  {
   "cell_type": "code",
   "execution_count": 65,
   "metadata": {},
   "outputs": [],
   "source": [
    "import matplotlib.pyplot as plt"
   ]
  },
  {
   "cell_type": "code",
   "execution_count": 66,
   "metadata": {},
   "outputs": [],
   "source": [
    "train_df = pd.read_csv(train_path)"
   ]
  },
  {
   "cell_type": "code",
   "execution_count": 67,
   "metadata": {},
   "outputs": [],
   "source": [
    "test_df = pd.read_csv(test_path)"
   ]
  },
  {
   "cell_type": "code",
   "execution_count": 68,
   "metadata": {},
   "outputs": [
    {
     "data": {
      "text/html": [
       "<div>\n",
       "<style scoped>\n",
       "    .dataframe tbody tr th:only-of-type {\n",
       "        vertical-align: middle;\n",
       "    }\n",
       "\n",
       "    .dataframe tbody tr th {\n",
       "        vertical-align: top;\n",
       "    }\n",
       "\n",
       "    .dataframe thead th {\n",
       "        text-align: right;\n",
       "    }\n",
       "</style>\n",
       "<table border=\"1\" class=\"dataframe\">\n",
       "  <thead>\n",
       "    <tr style=\"text-align: right;\">\n",
       "      <th></th>\n",
       "      <th>age</th>\n",
       "      <th>cost_of_ad</th>\n",
       "      <th>device_type</th>\n",
       "      <th>gender</th>\n",
       "      <th>in_initial_launch_location</th>\n",
       "      <th>income</th>\n",
       "      <th>n_drivers</th>\n",
       "      <th>n_vehicles</th>\n",
       "      <th>prior_ins_tenure</th>\n",
       "      <th>outcome</th>\n",
       "    </tr>\n",
       "  </thead>\n",
       "  <tbody>\n",
       "    <tr>\n",
       "      <th>0</th>\n",
       "      <td>56</td>\n",
       "      <td>0.005737</td>\n",
       "      <td>iPhone</td>\n",
       "      <td>M</td>\n",
       "      <td>0</td>\n",
       "      <td>62717</td>\n",
       "      <td>2</td>\n",
       "      <td>1</td>\n",
       "      <td>4</td>\n",
       "      <td>0</td>\n",
       "    </tr>\n",
       "    <tr>\n",
       "      <th>1</th>\n",
       "      <td>50</td>\n",
       "      <td>0.004733</td>\n",
       "      <td>desktop</td>\n",
       "      <td>F</td>\n",
       "      <td>0</td>\n",
       "      <td>64328</td>\n",
       "      <td>2</td>\n",
       "      <td>3</td>\n",
       "      <td>2</td>\n",
       "      <td>0</td>\n",
       "    </tr>\n",
       "    <tr>\n",
       "      <th>2</th>\n",
       "      <td>54</td>\n",
       "      <td>0.004129</td>\n",
       "      <td>laptop</td>\n",
       "      <td>M</td>\n",
       "      <td>0</td>\n",
       "      <td>83439</td>\n",
       "      <td>1</td>\n",
       "      <td>3</td>\n",
       "      <td>7</td>\n",
       "      <td>0</td>\n",
       "    </tr>\n",
       "    <tr>\n",
       "      <th>3</th>\n",
       "      <td>16</td>\n",
       "      <td>0.005117</td>\n",
       "      <td>Android</td>\n",
       "      <td>F</td>\n",
       "      <td>0</td>\n",
       "      <td>30110</td>\n",
       "      <td>2</td>\n",
       "      <td>3</td>\n",
       "      <td>0</td>\n",
       "      <td>0</td>\n",
       "    </tr>\n",
       "    <tr>\n",
       "      <th>4</th>\n",
       "      <td>37</td>\n",
       "      <td>0.003635</td>\n",
       "      <td>desktop</td>\n",
       "      <td>M</td>\n",
       "      <td>0</td>\n",
       "      <td>76565</td>\n",
       "      <td>2</td>\n",
       "      <td>1</td>\n",
       "      <td>5</td>\n",
       "      <td>0</td>\n",
       "    </tr>\n",
       "  </tbody>\n",
       "</table>\n",
       "</div>"
      ],
      "text/plain": [
       "   age  cost_of_ad device_type gender  in_initial_launch_location  income  \\\n",
       "0   56    0.005737      iPhone      M                           0   62717   \n",
       "1   50    0.004733     desktop      F                           0   64328   \n",
       "2   54    0.004129      laptop      M                           0   83439   \n",
       "3   16    0.005117     Android      F                           0   30110   \n",
       "4   37    0.003635     desktop      M                           0   76565   \n",
       "\n",
       "   n_drivers  n_vehicles  prior_ins_tenure  outcome  \n",
       "0          2           1                 4        0  \n",
       "1          2           3                 2        0  \n",
       "2          1           3                 7        0  \n",
       "3          2           3                 0        0  \n",
       "4          2           1                 5        0  "
      ]
     },
     "execution_count": 68,
     "metadata": {},
     "output_type": "execute_result"
    }
   ],
   "source": [
    "train_df.head()"
   ]
  },
  {
   "cell_type": "code",
   "execution_count": 69,
   "metadata": {},
   "outputs": [
    {
     "data": {
      "text/html": [
       "<div>\n",
       "<style scoped>\n",
       "    .dataframe tbody tr th:only-of-type {\n",
       "        vertical-align: middle;\n",
       "    }\n",
       "\n",
       "    .dataframe tbody tr th {\n",
       "        vertical-align: top;\n",
       "    }\n",
       "\n",
       "    .dataframe thead th {\n",
       "        text-align: right;\n",
       "    }\n",
       "</style>\n",
       "<table border=\"1\" class=\"dataframe\">\n",
       "  <thead>\n",
       "    <tr style=\"text-align: right;\">\n",
       "      <th></th>\n",
       "      <th>age</th>\n",
       "      <th>cost_of_ad</th>\n",
       "      <th>in_initial_launch_location</th>\n",
       "      <th>income</th>\n",
       "      <th>n_drivers</th>\n",
       "      <th>n_vehicles</th>\n",
       "      <th>prior_ins_tenure</th>\n",
       "      <th>outcome</th>\n",
       "    </tr>\n",
       "  </thead>\n",
       "  <tbody>\n",
       "    <tr>\n",
       "      <th>count</th>\n",
       "      <td>10000.000000</td>\n",
       "      <td>10000.000000</td>\n",
       "      <td>10000.000000</td>\n",
       "      <td>10000.000000</td>\n",
       "      <td>10000.000000</td>\n",
       "      <td>10000.00000</td>\n",
       "      <td>10000.000000</td>\n",
       "      <td>10000.0000</td>\n",
       "    </tr>\n",
       "    <tr>\n",
       "      <th>mean</th>\n",
       "      <td>37.991800</td>\n",
       "      <td>0.004666</td>\n",
       "      <td>0.497500</td>\n",
       "      <td>58004.335800</td>\n",
       "      <td>1.497000</td>\n",
       "      <td>2.00220</td>\n",
       "      <td>5.406800</td>\n",
       "      <td>0.0982</td>\n",
       "    </tr>\n",
       "    <tr>\n",
       "      <th>std</th>\n",
       "      <td>13.038203</td>\n",
       "      <td>0.000838</td>\n",
       "      <td>0.500019</td>\n",
       "      <td>17330.778355</td>\n",
       "      <td>0.500016</td>\n",
       "      <td>0.81784</td>\n",
       "      <td>5.046014</td>\n",
       "      <td>0.2976</td>\n",
       "    </tr>\n",
       "    <tr>\n",
       "      <th>min</th>\n",
       "      <td>16.000000</td>\n",
       "      <td>0.003171</td>\n",
       "      <td>0.000000</td>\n",
       "      <td>16241.000000</td>\n",
       "      <td>1.000000</td>\n",
       "      <td>1.00000</td>\n",
       "      <td>0.000000</td>\n",
       "      <td>0.0000</td>\n",
       "    </tr>\n",
       "    <tr>\n",
       "      <th>25%</th>\n",
       "      <td>27.000000</td>\n",
       "      <td>0.003995</td>\n",
       "      <td>0.000000</td>\n",
       "      <td>45533.500000</td>\n",
       "      <td>1.000000</td>\n",
       "      <td>1.00000</td>\n",
       "      <td>1.000000</td>\n",
       "      <td>0.0000</td>\n",
       "    </tr>\n",
       "    <tr>\n",
       "      <th>50%</th>\n",
       "      <td>38.000000</td>\n",
       "      <td>0.004625</td>\n",
       "      <td>0.000000</td>\n",
       "      <td>58053.500000</td>\n",
       "      <td>1.000000</td>\n",
       "      <td>2.00000</td>\n",
       "      <td>4.000000</td>\n",
       "      <td>0.0000</td>\n",
       "    </tr>\n",
       "    <tr>\n",
       "      <th>75%</th>\n",
       "      <td>49.000000</td>\n",
       "      <td>0.005164</td>\n",
       "      <td>1.000000</td>\n",
       "      <td>70235.250000</td>\n",
       "      <td>2.000000</td>\n",
       "      <td>3.00000</td>\n",
       "      <td>8.000000</td>\n",
       "      <td>0.0000</td>\n",
       "    </tr>\n",
       "    <tr>\n",
       "      <th>max</th>\n",
       "      <td>60.000000</td>\n",
       "      <td>0.007082</td>\n",
       "      <td>1.000000</td>\n",
       "      <td>99956.000000</td>\n",
       "      <td>2.000000</td>\n",
       "      <td>3.00000</td>\n",
       "      <td>22.000000</td>\n",
       "      <td>1.0000</td>\n",
       "    </tr>\n",
       "  </tbody>\n",
       "</table>\n",
       "</div>"
      ],
      "text/plain": [
       "                age    cost_of_ad  in_initial_launch_location        income  \\\n",
       "count  10000.000000  10000.000000                10000.000000  10000.000000   \n",
       "mean      37.991800      0.004666                    0.497500  58004.335800   \n",
       "std       13.038203      0.000838                    0.500019  17330.778355   \n",
       "min       16.000000      0.003171                    0.000000  16241.000000   \n",
       "25%       27.000000      0.003995                    0.000000  45533.500000   \n",
       "50%       38.000000      0.004625                    0.000000  58053.500000   \n",
       "75%       49.000000      0.005164                    1.000000  70235.250000   \n",
       "max       60.000000      0.007082                    1.000000  99956.000000   \n",
       "\n",
       "          n_drivers   n_vehicles  prior_ins_tenure     outcome  \n",
       "count  10000.000000  10000.00000      10000.000000  10000.0000  \n",
       "mean       1.497000      2.00220          5.406800      0.0982  \n",
       "std        0.500016      0.81784          5.046014      0.2976  \n",
       "min        1.000000      1.00000          0.000000      0.0000  \n",
       "25%        1.000000      1.00000          1.000000      0.0000  \n",
       "50%        1.000000      2.00000          4.000000      0.0000  \n",
       "75%        2.000000      3.00000          8.000000      0.0000  \n",
       "max        2.000000      3.00000         22.000000      1.0000  "
      ]
     },
     "execution_count": 69,
     "metadata": {},
     "output_type": "execute_result"
    }
   ],
   "source": [
    "train_df.describe()"
   ]
  },
  {
   "cell_type": "code",
   "execution_count": 70,
   "metadata": {},
   "outputs": [
    {
     "name": "stdout",
     "output_type": "stream",
     "text": [
      "<class 'pandas.core.frame.DataFrame'>\n",
      "RangeIndex: 10000 entries, 0 to 9999\n",
      "Data columns (total 10 columns):\n",
      "age                           10000 non-null int64\n",
      "cost_of_ad                    10000 non-null float64\n",
      "device_type                   10000 non-null object\n",
      "gender                        9731 non-null object\n",
      "in_initial_launch_location    10000 non-null int64\n",
      "income                        10000 non-null int64\n",
      "n_drivers                     10000 non-null int64\n",
      "n_vehicles                    10000 non-null int64\n",
      "prior_ins_tenure              10000 non-null int64\n",
      "outcome                       10000 non-null int64\n",
      "dtypes: float64(1), int64(7), object(2)\n",
      "memory usage: 781.4+ KB\n"
     ]
    }
   ],
   "source": [
    "train_df.info()"
   ]
  },
  {
   "cell_type": "code",
   "execution_count": 71,
   "metadata": {},
   "outputs": [
    {
     "data": {
      "text/plain": [
       "0    9018\n",
       "1     982\n",
       "Name: outcome, dtype: int64"
      ]
     },
     "execution_count": 71,
     "metadata": {},
     "output_type": "execute_result"
    }
   ],
   "source": [
    "train_df['outcome'].value_counts()"
   ]
  },
  {
   "cell_type": "code",
   "execution_count": 72,
   "metadata": {},
   "outputs": [
    {
     "data": {
      "image/png": "[encoded data removed]",
      "text/plain": [
       "<Figure size 864x576 with 9 Axes>"
      ]
     },
     "metadata": {
      "needs_background": "light"
     },
     "output_type": "display_data"
    }
   ],
   "source": [
    "train_df.hist(figsize=(12,8))\n",
    "plt.show()"
   ]
  },
  {
   "cell_type": "markdown",
   "metadata": {},
   "source": [
    "# Data preprocessing"
   ]
  },
  {
   "cell_type": "code",
   "execution_count": 73,
   "metadata": {},
   "outputs": [],
   "source": [
    "from sklearn.preprocessing import OneHotEncoder\n",
    "from sklearn.preprocessing import OrdinalEncoder\n",
    "from sklearn.preprocessing import StandardScaler\n",
    "from sklearn.preprocessing import MinMaxScaler"
   ]
  },
  {
   "cell_type": "code",
   "execution_count": 74,
   "metadata": {},
   "outputs": [],
   "source": [
    "cat_features = ['device_type', 'gender', 'in_initial_launch_location']\n",
    "\n",
    "def data_preprocessing(data, use_scale=False, scale=None, onehot=True):\n",
    "    data['gender'].fillna(data['gender'].mode().iloc[0], inplace=True)\n",
    "    \n",
    "    if onehot: \n",
    "        one_hot = OneHotEncoder(sparse=False)\n",
    "        one_hot.fit(data['in_initial_launch_location'].values.reshape(-1,1))\n",
    "        location_onehot = one_hot.fit_transform(data['in_initial_launch_location'].values.reshape(-1,1))\n",
    "        data = data.join(pd.DataFrame(location_onehot, columns=['location_onehot1','location_onehot2'])).drop('in_initial_launch_location',axis=1)\n",
    "\n",
    "        one_hot = OneHotEncoder(sparse=False)\n",
    "        device_onehot = one_hot.fit_transform(data['device_type'].values.reshape(-1,1))\n",
    "        data = data.join(pd.DataFrame(device_onehot, columns=['device_onehot1','device_onehot2','device_onehot3','device_onehot4','device_onehot5'])).drop('device_type',axis=1)\n",
    "\n",
    "        one_hot = OneHotEncoder(sparse=False, handle_unknown='ignore')\n",
    "        gender_onehot = one_hot.fit_transform(data['gender'].values.reshape(-1,1))\n",
    "        data = data.join(pd.DataFrame(gender_onehot, columns=['gender_onehot1','gender_onehot2'])).drop('gender',axis=1)\n",
    "        \n",
    "    else:\n",
    "        ord_encoder = OrdinalEncoder()\n",
    "        ords = pd.DataFrame(ord_encoder.fit_transform(train_df[cat_features]), columns = cat_features)\n",
    "        data[cat_features] = ords\n",
    "        \n",
    "    if use_scale and scale!=None:\n",
    "        data = pd.DataFrame(scale.fit_transform(data.iloc[:,0:6]), columns = data.iloc[:,0:6].columns).join(data.iloc[:,6:])\n",
    "\n",
    "    return data"
   ]
  },
  {
   "cell_type": "code",
   "execution_count": 75,
   "metadata": {},
   "outputs": [
    {
     "data": {
      "text/html": [
       "<div>\n",
       "<style scoped>\n",
       "    .dataframe tbody tr th:only-of-type {\n",
       "        vertical-align: middle;\n",
       "    }\n",
       "\n",
       "    .dataframe tbody tr th {\n",
       "        vertical-align: top;\n",
       "    }\n",
       "\n",
       "    .dataframe thead th {\n",
       "        text-align: right;\n",
       "    }\n",
       "</style>\n",
       "<table border=\"1\" class=\"dataframe\">\n",
       "  <thead>\n",
       "    <tr style=\"text-align: right;\">\n",
       "      <th></th>\n",
       "      <th>age</th>\n",
       "      <th>cost_of_ad</th>\n",
       "      <th>income</th>\n",
       "      <th>n_drivers</th>\n",
       "      <th>n_vehicles</th>\n",
       "      <th>prior_ins_tenure</th>\n",
       "      <th>outcome</th>\n",
       "      <th>location_onehot1</th>\n",
       "      <th>location_onehot2</th>\n",
       "      <th>device_onehot1</th>\n",
       "      <th>device_onehot2</th>\n",
       "      <th>device_onehot3</th>\n",
       "      <th>device_onehot4</th>\n",
       "      <th>device_onehot5</th>\n",
       "      <th>gender_onehot1</th>\n",
       "      <th>gender_onehot2</th>\n",
       "    </tr>\n",
       "  </thead>\n",
       "  <tbody>\n",
       "    <tr>\n",
       "      <th>0</th>\n",
       "      <td>0.909091</td>\n",
       "      <td>0.656134</td>\n",
       "      <td>0.555169</td>\n",
       "      <td>1.0</td>\n",
       "      <td>0.0</td>\n",
       "      <td>0.181818</td>\n",
       "      <td>0</td>\n",
       "      <td>1.0</td>\n",
       "      <td>0.0</td>\n",
       "      <td>0.0</td>\n",
       "      <td>0.0</td>\n",
       "      <td>1.0</td>\n",
       "      <td>0.0</td>\n",
       "      <td>0.0</td>\n",
       "      <td>0.0</td>\n",
       "      <td>1.0</td>\n",
       "    </tr>\n",
       "    <tr>\n",
       "      <th>1</th>\n",
       "      <td>0.772727</td>\n",
       "      <td>0.399411</td>\n",
       "      <td>0.574413</td>\n",
       "      <td>1.0</td>\n",
       "      <td>1.0</td>\n",
       "      <td>0.090909</td>\n",
       "      <td>0</td>\n",
       "      <td>1.0</td>\n",
       "      <td>0.0</td>\n",
       "      <td>0.0</td>\n",
       "      <td>1.0</td>\n",
       "      <td>0.0</td>\n",
       "      <td>0.0</td>\n",
       "      <td>0.0</td>\n",
       "      <td>1.0</td>\n",
       "      <td>0.0</td>\n",
       "    </tr>\n",
       "    <tr>\n",
       "      <th>2</th>\n",
       "      <td>0.863636</td>\n",
       "      <td>0.245129</td>\n",
       "      <td>0.802700</td>\n",
       "      <td>0.0</td>\n",
       "      <td>1.0</td>\n",
       "      <td>0.318182</td>\n",
       "      <td>0</td>\n",
       "      <td>1.0</td>\n",
       "      <td>0.0</td>\n",
       "      <td>0.0</td>\n",
       "      <td>0.0</td>\n",
       "      <td>0.0</td>\n",
       "      <td>1.0</td>\n",
       "      <td>0.0</td>\n",
       "      <td>0.0</td>\n",
       "      <td>1.0</td>\n",
       "    </tr>\n",
       "    <tr>\n",
       "      <th>3</th>\n",
       "      <td>0.000000</td>\n",
       "      <td>0.497737</td>\n",
       "      <td>0.165669</td>\n",
       "      <td>1.0</td>\n",
       "      <td>1.0</td>\n",
       "      <td>0.000000</td>\n",
       "      <td>0</td>\n",
       "      <td>1.0</td>\n",
       "      <td>0.0</td>\n",
       "      <td>1.0</td>\n",
       "      <td>0.0</td>\n",
       "      <td>0.0</td>\n",
       "      <td>0.0</td>\n",
       "      <td>0.0</td>\n",
       "      <td>1.0</td>\n",
       "      <td>0.0</td>\n",
       "    </tr>\n",
       "    <tr>\n",
       "      <th>4</th>\n",
       "      <td>0.477273</td>\n",
       "      <td>0.118628</td>\n",
       "      <td>0.720588</td>\n",
       "      <td>1.0</td>\n",
       "      <td>0.0</td>\n",
       "      <td>0.227273</td>\n",
       "      <td>0</td>\n",
       "      <td>1.0</td>\n",
       "      <td>0.0</td>\n",
       "      <td>0.0</td>\n",
       "      <td>1.0</td>\n",
       "      <td>0.0</td>\n",
       "      <td>0.0</td>\n",
       "      <td>0.0</td>\n",
       "      <td>0.0</td>\n",
       "      <td>1.0</td>\n",
       "    </tr>\n",
       "  </tbody>\n",
       "</table>\n",
       "</div>"
      ],
      "text/plain": [
       "        age  cost_of_ad    income  n_drivers  n_vehicles  prior_ins_tenure  \\\n",
       "0  0.909091    0.656134  0.555169        1.0         0.0          0.181818   \n",
       "1  0.772727    0.399411  0.574413        1.0         1.0          0.090909   \n",
       "2  0.863636    0.245129  0.802700        0.0         1.0          0.318182   \n",
       "3  0.000000    0.497737  0.165669        1.0         1.0          0.000000   \n",
       "4  0.477273    0.118628  0.720588        1.0         0.0          0.227273   \n",
       "\n",
       "   outcome  location_onehot1  location_onehot2  device_onehot1  \\\n",
       "0        0               1.0               0.0             0.0   \n",
       "1        0               1.0               0.0             0.0   \n",
       "2        0               1.0               0.0             0.0   \n",
       "3        0               1.0               0.0             1.0   \n",
       "4        0               1.0               0.0             0.0   \n",
       "\n",
       "   device_onehot2  device_onehot3  device_onehot4  device_onehot5  \\\n",
       "0             0.0             1.0             0.0             0.0   \n",
       "1             1.0             0.0             0.0             0.0   \n",
       "2             0.0             0.0             1.0             0.0   \n",
       "3             0.0             0.0             0.0             0.0   \n",
       "4             1.0             0.0             0.0             0.0   \n",
       "\n",
       "   gender_onehot1  gender_onehot2  \n",
       "0             0.0             1.0  \n",
       "1             1.0             0.0  \n",
       "2             0.0             1.0  \n",
       "3             1.0             0.0  \n",
       "4             0.0             1.0  "
      ]
     },
     "execution_count": 75,
     "metadata": {},
     "output_type": "execute_result"
    }
   ],
   "source": [
    "train = data_preprocessing(train_df, use_scale=True, scale=MinMaxScaler())\n",
    "train.head()"
   ]
  },
  {
   "cell_type": "code",
   "execution_count": 76,
   "metadata": {},
   "outputs": [
    {
     "data": {
      "text/html": [
       "<div>\n",
       "<style scoped>\n",
       "    .dataframe tbody tr th:only-of-type {\n",
       "        vertical-align: middle;\n",
       "    }\n",
       "\n",
       "    .dataframe tbody tr th {\n",
       "        vertical-align: top;\n",
       "    }\n",
       "\n",
       "    .dataframe thead th {\n",
       "        text-align: right;\n",
       "    }\n",
       "</style>\n",
       "<table border=\"1\" class=\"dataframe\">\n",
       "  <thead>\n",
       "    <tr style=\"text-align: right;\">\n",
       "      <th></th>\n",
       "      <th>age</th>\n",
       "      <th>cost_of_ad</th>\n",
       "      <th>device_type</th>\n",
       "      <th>gender</th>\n",
       "      <th>in_initial_launch_location</th>\n",
       "      <th>income</th>\n",
       "      <th>n_drivers</th>\n",
       "      <th>n_vehicles</th>\n",
       "      <th>prior_ins_tenure</th>\n",
       "      <th>outcome</th>\n",
       "    </tr>\n",
       "  </thead>\n",
       "  <tbody>\n",
       "    <tr>\n",
       "      <th>0</th>\n",
       "      <td>0.909091</td>\n",
       "      <td>0.656134</td>\n",
       "      <td>0.50</td>\n",
       "      <td>1.0</td>\n",
       "      <td>0.0</td>\n",
       "      <td>0.555169</td>\n",
       "      <td>2</td>\n",
       "      <td>1</td>\n",
       "      <td>4</td>\n",
       "      <td>0</td>\n",
       "    </tr>\n",
       "    <tr>\n",
       "      <th>1</th>\n",
       "      <td>0.772727</td>\n",
       "      <td>0.399411</td>\n",
       "      <td>0.25</td>\n",
       "      <td>0.0</td>\n",
       "      <td>0.0</td>\n",
       "      <td>0.574413</td>\n",
       "      <td>2</td>\n",
       "      <td>3</td>\n",
       "      <td>2</td>\n",
       "      <td>0</td>\n",
       "    </tr>\n",
       "    <tr>\n",
       "      <th>2</th>\n",
       "      <td>0.863636</td>\n",
       "      <td>0.245129</td>\n",
       "      <td>0.75</td>\n",
       "      <td>1.0</td>\n",
       "      <td>0.0</td>\n",
       "      <td>0.802700</td>\n",
       "      <td>1</td>\n",
       "      <td>3</td>\n",
       "      <td>7</td>\n",
       "      <td>0</td>\n",
       "    </tr>\n",
       "    <tr>\n",
       "      <th>3</th>\n",
       "      <td>0.000000</td>\n",
       "      <td>0.497737</td>\n",
       "      <td>0.00</td>\n",
       "      <td>0.0</td>\n",
       "      <td>0.0</td>\n",
       "      <td>0.165669</td>\n",
       "      <td>2</td>\n",
       "      <td>3</td>\n",
       "      <td>0</td>\n",
       "      <td>0</td>\n",
       "    </tr>\n",
       "    <tr>\n",
       "      <th>4</th>\n",
       "      <td>0.477273</td>\n",
       "      <td>0.118628</td>\n",
       "      <td>0.25</td>\n",
       "      <td>1.0</td>\n",
       "      <td>0.0</td>\n",
       "      <td>0.720588</td>\n",
       "      <td>2</td>\n",
       "      <td>1</td>\n",
       "      <td>5</td>\n",
       "      <td>0</td>\n",
       "    </tr>\n",
       "  </tbody>\n",
       "</table>\n",
       "</div>"
      ],
      "text/plain": [
       "        age  cost_of_ad  device_type  gender  in_initial_launch_location  \\\n",
       "0  0.909091    0.656134         0.50     1.0                         0.0   \n",
       "1  0.772727    0.399411         0.25     0.0                         0.0   \n",
       "2  0.863636    0.245129         0.75     1.0                         0.0   \n",
       "3  0.000000    0.497737         0.00     0.0                         0.0   \n",
       "4  0.477273    0.118628         0.25     1.0                         0.0   \n",
       "\n",
       "     income  n_drivers  n_vehicles  prior_ins_tenure  outcome  \n",
       "0  0.555169          2           1                 4        0  \n",
       "1  0.574413          2           3                 2        0  \n",
       "2  0.802700          1           3                 7        0  \n",
       "3  0.165669          2           3                 0        0  \n",
       "4  0.720588          2           1                 5        0  "
      ]
     },
     "execution_count": 76,
     "metadata": {},
     "output_type": "execute_result"
    }
   ],
   "source": [
    "train = data_preprocessing(train_df, use_scale=True, scale=MinMaxScaler(), onehot=False)\n",
    "train.head()"
   ]
  },
  {
   "cell_type": "code",
   "execution_count": 77,
   "metadata": {},
   "outputs": [
    {
     "data": {
      "image/png": "[encoded data removed]",
      "text/plain": [
       "<Figure size 864x576 with 12 Axes>"
      ]
     },
     "metadata": {
      "needs_background": "light"
     },
     "output_type": "display_data"
    }
   ],
   "source": [
    "train.hist(figsize=(12,8))\n",
    "plt.show()"
   ]
  },
  {
   "cell_type": "markdown",
   "metadata": {},
   "source": [
    "# Model comparison"
   ]
  },
  {
   "cell_type": "code",
   "execution_count": 78,
   "metadata": {},
   "outputs": [],
   "source": [
    "from sklearn.linear_model import LogisticRegression\n",
    "from sklearn.svm import SVC\n",
    "from sklearn.tree import DecisionTreeClassifier\n",
    "from sklearn.ensemble import RandomForestClassifier\n",
    "from sklearn.discriminant_analysis import LinearDiscriminantAnalysis\n",
    "from sklearn.model_selection import cross_val_score\n",
    "from xgboost import XGBClassifier"
   ]
  },
  {
   "cell_type": "code",
   "execution_count": 79,
   "metadata": {},
   "outputs": [],
   "source": [
    "X = train.drop('outcome', axis=1)\n",
    "y = train['outcome']"
   ]
  },
  {
   "cell_type": "code",
   "execution_count": 80,
   "metadata": {},
   "outputs": [],
   "source": [
    "#X.drop([\"device_onehot1\",\"device_onehot2\",\"device_onehot3\",\"device_onehot4\",'device_onehot5'], axis=1, inplace=True)"
   ]
  },
  {
   "cell_type": "code",
   "execution_count": 81,
   "metadata": {},
   "outputs": [],
   "source": [
    "model_dict = {'lr': LogisticRegression(max_iter=200),\n",
    "              'svm': SVC(), \n",
    "              'cart': DecisionTreeClassifier(), \n",
    "              'rf': RandomForestClassifier(),\n",
    "              'ldr': LinearDiscriminantAnalysis()\n",
    "             }"
   ]
  },
  {
   "cell_type": "code",
   "execution_count": 82,
   "metadata": {},
   "outputs": [
    {
     "data": {
      "text/plain": [
       "0    0.757766\n",
       "1    0.764564\n",
       "2    0.760695\n",
       "3    0.753734\n",
       "4    0.763190\n",
       "dtype: float64"
      ]
     },
     "execution_count": 82,
     "metadata": {},
     "output_type": "execute_result"
    }
   ],
   "source": [
    "cv_scores = []\n",
    "for i, model in enumerate(model_dict):\n",
    "    cv_score = cross_val_score(model_dict[model],X, y, scoring='roc_auc', cv=5)\n",
    "    cv_scores.append(cv_score)\n",
    "    \n",
    "cv_scores = pd.DataFrame(cv_scores, index=list(model_dict.keys()))\n",
    "cv_scores.mean()"
   ]
  },
  {
   "cell_type": "code",
   "execution_count": 83,
   "metadata": {},
   "outputs": [
    {
     "name": "stdout",
     "output_type": "stream",
     "text": [
      "scores:[0.80527965 0.80533056 0.80203855 0.80058898 0.80973617], \n",
      " mean:0.8045947822783553\n"
     ]
    }
   ],
   "source": [
    "cv_score = cross_val_score(LogisticRegression(max_iter=200), X, y, scoring='roc_auc', cv=5)\n",
    "print(f\"scores:{cv_score}, \\n mean:{cv_score.mean()}\")"
   ]
  },
  {
   "cell_type": "code",
   "execution_count": 84,
   "metadata": {},
   "outputs": [
    {
     "name": "stdout",
     "output_type": "stream",
     "text": [
      "scores:[0.74074053 0.75866555 0.77435631 0.76790797 0.74824531], \n",
      " mean:0.7579831336698358\n"
     ]
    }
   ],
   "source": [
    "cv_score = cross_val_score(SVC(),X, y, scoring='roc_auc', cv=5)\n",
    "print(f\"scores:{cv_score}, \\n mean:{cv_score.mean()}\")"
   ]
  },
  {
   "cell_type": "code",
   "execution_count": 85,
   "metadata": {},
   "outputs": [
    {
     "name": "stdout",
     "output_type": "stream",
     "text": [
      "scores:[0.61509005 0.63932757 0.60488597 0.6016439  0.63186567], \n",
      " mean:0.6185626329870717\n"
     ]
    }
   ],
   "source": [
    "cv_score = cross_val_score(DecisionTreeClassifier(), X, y, scoring='roc_auc', cv=5)\n",
    "print(f\"scores:{cv_score}, \\n mean:{cv_score.mean()}\")"
   ]
  },
  {
   "cell_type": "code",
   "execution_count": 86,
   "metadata": {},
   "outputs": [
    {
     "name": "stdout",
     "output_type": "stream",
     "text": [
      "scores:[0.82233783 0.83680398 0.81753134 0.80910834 0.83000132], \n",
      " mean:0.8231565629513578\n"
     ]
    }
   ],
   "source": [
    "cv_score = cross_val_score(RandomForestClassifier(n_estimators=500, random_state=42),X, y, scoring='roc_auc', cv=5)\n",
    "print(f\"scores:{cv_score}, \\n mean:{cv_score.mean()}\")"
   ]
  },
  {
   "cell_type": "code",
   "execution_count": 87,
   "metadata": {},
   "outputs": [
    {
     "name": "stdout",
     "output_type": "stream",
     "text": [
      "scores:[0.80434352 0.80381182 0.80124383 0.7990011  0.80953909], \n",
      " mean:0.8035878749651879\n"
     ]
    }
   ],
   "source": [
    "cv_score = cross_val_score(LinearDiscriminantAnalysis(), X, y, scoring='roc_auc', cv=5)\n",
    "print(f\"scores:{cv_score}, \\n mean:{cv_score.mean()}\")"
   ]
  },
  {
   "cell_type": "code",
   "execution_count": 88,
   "metadata": {},
   "outputs": [
    {
     "name": "stdout",
     "output_type": "stream",
     "text": [
      "scores:[0.81899916 0.79749649 0.80931264 0.77295596 0.82751815], \n",
      " mean:0.8052564811210026\n"
     ]
    }
   ],
   "source": [
    "cv_score = cross_val_score(XGBClassifier(n_estimators=500, random_state=42), X, y, scoring='roc_auc', cv=5)\n",
    "print(f\"scores:{cv_score}, \\n mean:{cv_score.mean()}\")"
   ]
  },
  {
   "cell_type": "markdown",
   "metadata": {},
   "source": [
    "**observation**: \n",
    "- lr is sensitive to feature scaling, rf is not so much\n",
    "- minmax scaling is better\n",
    "- onehot encoding gives better results"
   ]
  },
  {
   "cell_type": "markdown",
   "metadata": {},
   "source": [
    "# Feature engineering"
   ]
  },
  {
   "cell_type": "code",
   "execution_count": 89,
   "metadata": {},
   "outputs": [
    {
     "data": {
      "text/html": [
       "<div>\n",
       "<style scoped>\n",
       "    .dataframe tbody tr th:only-of-type {\n",
       "        vertical-align: middle;\n",
       "    }\n",
       "\n",
       "    .dataframe tbody tr th {\n",
       "        vertical-align: top;\n",
       "    }\n",
       "\n",
       "    .dataframe thead th {\n",
       "        text-align: right;\n",
       "    }\n",
       "</style>\n",
       "<table border=\"1\" class=\"dataframe\">\n",
       "  <thead>\n",
       "    <tr style=\"text-align: right;\">\n",
       "      <th></th>\n",
       "      <th>age</th>\n",
       "      <th>cost_of_ad</th>\n",
       "      <th>income</th>\n",
       "      <th>n_drivers</th>\n",
       "      <th>n_vehicles</th>\n",
       "      <th>prior_ins_tenure</th>\n",
       "      <th>outcome</th>\n",
       "      <th>location_onehot1</th>\n",
       "      <th>location_onehot2</th>\n",
       "      <th>device_onehot1</th>\n",
       "      <th>...</th>\n",
       "      <th>device_onehot3</th>\n",
       "      <th>device_onehot4</th>\n",
       "      <th>device_onehot5</th>\n",
       "      <th>gender_onehot1</th>\n",
       "      <th>gender_onehot2</th>\n",
       "      <th>cost/driver</th>\n",
       "      <th>cost/vehicle</th>\n",
       "      <th>income/driver</th>\n",
       "      <th>income/vehicle</th>\n",
       "      <th>vehicle/driver</th>\n",
       "    </tr>\n",
       "  </thead>\n",
       "  <tbody>\n",
       "    <tr>\n",
       "      <th>0</th>\n",
       "      <td>56</td>\n",
       "      <td>0.005737</td>\n",
       "      <td>62717</td>\n",
       "      <td>2</td>\n",
       "      <td>1</td>\n",
       "      <td>4</td>\n",
       "      <td>0</td>\n",
       "      <td>1.0</td>\n",
       "      <td>0.0</td>\n",
       "      <td>0.0</td>\n",
       "      <td>...</td>\n",
       "      <td>1.0</td>\n",
       "      <td>0.0</td>\n",
       "      <td>0.0</td>\n",
       "      <td>0.0</td>\n",
       "      <td>1.0</td>\n",
       "      <td>0.002868</td>\n",
       "      <td>0.005737</td>\n",
       "      <td>31358.5</td>\n",
       "      <td>62717.000000</td>\n",
       "      <td>0.5</td>\n",
       "    </tr>\n",
       "    <tr>\n",
       "      <th>1</th>\n",
       "      <td>50</td>\n",
       "      <td>0.004733</td>\n",
       "      <td>64328</td>\n",
       "      <td>2</td>\n",
       "      <td>3</td>\n",
       "      <td>2</td>\n",
       "      <td>0</td>\n",
       "      <td>1.0</td>\n",
       "      <td>0.0</td>\n",
       "      <td>0.0</td>\n",
       "      <td>...</td>\n",
       "      <td>0.0</td>\n",
       "      <td>0.0</td>\n",
       "      <td>0.0</td>\n",
       "      <td>1.0</td>\n",
       "      <td>0.0</td>\n",
       "      <td>0.002366</td>\n",
       "      <td>0.001578</td>\n",
       "      <td>32164.0</td>\n",
       "      <td>21442.666667</td>\n",
       "      <td>1.5</td>\n",
       "    </tr>\n",
       "    <tr>\n",
       "      <th>2</th>\n",
       "      <td>54</td>\n",
       "      <td>0.004129</td>\n",
       "      <td>83439</td>\n",
       "      <td>1</td>\n",
       "      <td>3</td>\n",
       "      <td>7</td>\n",
       "      <td>0</td>\n",
       "      <td>1.0</td>\n",
       "      <td>0.0</td>\n",
       "      <td>0.0</td>\n",
       "      <td>...</td>\n",
       "      <td>0.0</td>\n",
       "      <td>1.0</td>\n",
       "      <td>0.0</td>\n",
       "      <td>0.0</td>\n",
       "      <td>1.0</td>\n",
       "      <td>0.004129</td>\n",
       "      <td>0.001376</td>\n",
       "      <td>83439.0</td>\n",
       "      <td>27813.000000</td>\n",
       "      <td>3.0</td>\n",
       "    </tr>\n",
       "    <tr>\n",
       "      <th>3</th>\n",
       "      <td>16</td>\n",
       "      <td>0.005117</td>\n",
       "      <td>30110</td>\n",
       "      <td>2</td>\n",
       "      <td>3</td>\n",
       "      <td>0</td>\n",
       "      <td>0</td>\n",
       "      <td>1.0</td>\n",
       "      <td>0.0</td>\n",
       "      <td>1.0</td>\n",
       "      <td>...</td>\n",
       "      <td>0.0</td>\n",
       "      <td>0.0</td>\n",
       "      <td>0.0</td>\n",
       "      <td>1.0</td>\n",
       "      <td>0.0</td>\n",
       "      <td>0.002559</td>\n",
       "      <td>0.001706</td>\n",
       "      <td>15055.0</td>\n",
       "      <td>10036.666667</td>\n",
       "      <td>1.5</td>\n",
       "    </tr>\n",
       "    <tr>\n",
       "      <th>4</th>\n",
       "      <td>37</td>\n",
       "      <td>0.003635</td>\n",
       "      <td>76565</td>\n",
       "      <td>2</td>\n",
       "      <td>1</td>\n",
       "      <td>5</td>\n",
       "      <td>0</td>\n",
       "      <td>1.0</td>\n",
       "      <td>0.0</td>\n",
       "      <td>0.0</td>\n",
       "      <td>...</td>\n",
       "      <td>0.0</td>\n",
       "      <td>0.0</td>\n",
       "      <td>0.0</td>\n",
       "      <td>0.0</td>\n",
       "      <td>1.0</td>\n",
       "      <td>0.001817</td>\n",
       "      <td>0.003635</td>\n",
       "      <td>38282.5</td>\n",
       "      <td>76565.000000</td>\n",
       "      <td>0.5</td>\n",
       "    </tr>\n",
       "  </tbody>\n",
       "</table>\n",
       "<p>5 rows × 21 columns</p>\n",
       "</div>"
      ],
      "text/plain": [
       "   age  cost_of_ad  income  n_drivers  n_vehicles  prior_ins_tenure  outcome  \\\n",
       "0   56    0.005737   62717          2           1                 4        0   \n",
       "1   50    0.004733   64328          2           3                 2        0   \n",
       "2   54    0.004129   83439          1           3                 7        0   \n",
       "3   16    0.005117   30110          2           3                 0        0   \n",
       "4   37    0.003635   76565          2           1                 5        0   \n",
       "\n",
       "   location_onehot1  location_onehot2  device_onehot1  ...  device_onehot3  \\\n",
       "0               1.0               0.0             0.0  ...             1.0   \n",
       "1               1.0               0.0             0.0  ...             0.0   \n",
       "2               1.0               0.0             0.0  ...             0.0   \n",
       "3               1.0               0.0             1.0  ...             0.0   \n",
       "4               1.0               0.0             0.0  ...             0.0   \n",
       "\n",
       "   device_onehot4  device_onehot5  gender_onehot1  gender_onehot2  \\\n",
       "0             0.0             0.0             0.0             1.0   \n",
       "1             0.0             0.0             1.0             0.0   \n",
       "2             1.0             0.0             0.0             1.0   \n",
       "3             0.0             0.0             1.0             0.0   \n",
       "4             0.0             0.0             0.0             1.0   \n",
       "\n",
       "   cost/driver  cost/vehicle  income/driver  income/vehicle  vehicle/driver  \n",
       "0     0.002868      0.005737        31358.5    62717.000000             0.5  \n",
       "1     0.002366      0.001578        32164.0    21442.666667             1.5  \n",
       "2     0.004129      0.001376        83439.0    27813.000000             3.0  \n",
       "3     0.002559      0.001706        15055.0    10036.666667             1.5  \n",
       "4     0.001817      0.003635        38282.5    76565.000000             0.5  \n",
       "\n",
       "[5 rows x 21 columns]"
      ]
     },
     "execution_count": 89,
     "metadata": {},
     "output_type": "execute_result"
    }
   ],
   "source": [
    "train = data_preprocessing(train_df, use_scale=False, scale=MinMaxScaler())\n",
    "train['cost/driver'] = train['cost_of_ad']/train['n_drivers']\n",
    "train['cost/vehicle'] = train['cost_of_ad']/train['n_vehicles']\n",
    "train['income/driver'] = train['income']/train['n_drivers']\n",
    "train['income/vehicle'] = train['income']/train['n_vehicles']\n",
    "train['vehicle/driver'] = train['n_vehicles']/train['n_drivers']\n",
    "train.head()"
   ]
  },
  {
   "cell_type": "code",
   "execution_count": 90,
   "metadata": {},
   "outputs": [
    {
     "data": {
      "text/html": [
       "<div>\n",
       "<style scoped>\n",
       "    .dataframe tbody tr th:only-of-type {\n",
       "        vertical-align: middle;\n",
       "    }\n",
       "\n",
       "    .dataframe tbody tr th {\n",
       "        vertical-align: top;\n",
       "    }\n",
       "\n",
       "    .dataframe thead th {\n",
       "        text-align: right;\n",
       "    }\n",
       "</style>\n",
       "<table border=\"1\" class=\"dataframe\">\n",
       "  <thead>\n",
       "    <tr style=\"text-align: right;\">\n",
       "      <th></th>\n",
       "      <th>age</th>\n",
       "      <th>cost_of_ad</th>\n",
       "      <th>income</th>\n",
       "      <th>n_drivers</th>\n",
       "      <th>n_vehicles</th>\n",
       "      <th>prior_ins_tenure</th>\n",
       "      <th>outcome</th>\n",
       "      <th>location_onehot1</th>\n",
       "      <th>location_onehot2</th>\n",
       "      <th>device_onehot1</th>\n",
       "      <th>...</th>\n",
       "      <th>device_onehot3</th>\n",
       "      <th>device_onehot4</th>\n",
       "      <th>device_onehot5</th>\n",
       "      <th>gender_onehot1</th>\n",
       "      <th>gender_onehot2</th>\n",
       "      <th>cost/driver</th>\n",
       "      <th>cost/vehicle</th>\n",
       "      <th>income/driver</th>\n",
       "      <th>income/vehicle</th>\n",
       "      <th>vehicle/driver</th>\n",
       "    </tr>\n",
       "  </thead>\n",
       "  <tbody>\n",
       "    <tr>\n",
       "      <th>0</th>\n",
       "      <td>0.909091</td>\n",
       "      <td>0.656134</td>\n",
       "      <td>0.555169</td>\n",
       "      <td>1.0</td>\n",
       "      <td>0.0</td>\n",
       "      <td>0.181818</td>\n",
       "      <td>0</td>\n",
       "      <td>1.0</td>\n",
       "      <td>0.0</td>\n",
       "      <td>0.0</td>\n",
       "      <td>...</td>\n",
       "      <td>1.0</td>\n",
       "      <td>0.0</td>\n",
       "      <td>0.0</td>\n",
       "      <td>0.0</td>\n",
       "      <td>1.0</td>\n",
       "      <td>0.234385</td>\n",
       "      <td>0.776455</td>\n",
       "      <td>0.254021</td>\n",
       "      <td>0.608397</td>\n",
       "      <td>0.0</td>\n",
       "    </tr>\n",
       "    <tr>\n",
       "      <th>1</th>\n",
       "      <td>0.772727</td>\n",
       "      <td>0.399411</td>\n",
       "      <td>0.574413</td>\n",
       "      <td>1.0</td>\n",
       "      <td>1.0</td>\n",
       "      <td>0.090909</td>\n",
       "      <td>0</td>\n",
       "      <td>1.0</td>\n",
       "      <td>0.0</td>\n",
       "      <td>0.0</td>\n",
       "      <td>...</td>\n",
       "      <td>0.0</td>\n",
       "      <td>0.0</td>\n",
       "      <td>0.0</td>\n",
       "      <td>1.0</td>\n",
       "      <td>0.0</td>\n",
       "      <td>0.142678</td>\n",
       "      <td>0.085113</td>\n",
       "      <td>0.262827</td>\n",
       "      <td>0.170182</td>\n",
       "      <td>0.4</td>\n",
       "    </tr>\n",
       "    <tr>\n",
       "      <th>2</th>\n",
       "      <td>0.863636</td>\n",
       "      <td>0.245129</td>\n",
       "      <td>0.802700</td>\n",
       "      <td>0.0</td>\n",
       "      <td>1.0</td>\n",
       "      <td>0.318182</td>\n",
       "      <td>0</td>\n",
       "      <td>1.0</td>\n",
       "      <td>0.0</td>\n",
       "      <td>0.0</td>\n",
       "      <td>...</td>\n",
       "      <td>0.0</td>\n",
       "      <td>1.0</td>\n",
       "      <td>0.0</td>\n",
       "      <td>0.0</td>\n",
       "      <td>1.0</td>\n",
       "      <td>0.464724</td>\n",
       "      <td>0.051680</td>\n",
       "      <td>0.823328</td>\n",
       "      <td>0.237817</td>\n",
       "      <td>1.0</td>\n",
       "    </tr>\n",
       "    <tr>\n",
       "      <th>3</th>\n",
       "      <td>0.000000</td>\n",
       "      <td>0.497737</td>\n",
       "      <td>0.165669</td>\n",
       "      <td>1.0</td>\n",
       "      <td>1.0</td>\n",
       "      <td>0.000000</td>\n",
       "      <td>0</td>\n",
       "      <td>1.0</td>\n",
       "      <td>0.0</td>\n",
       "      <td>1.0</td>\n",
       "      <td>...</td>\n",
       "      <td>0.0</td>\n",
       "      <td>0.0</td>\n",
       "      <td>0.0</td>\n",
       "      <td>1.0</td>\n",
       "      <td>0.0</td>\n",
       "      <td>0.177802</td>\n",
       "      <td>0.106420</td>\n",
       "      <td>0.075803</td>\n",
       "      <td>0.049083</td>\n",
       "      <td>0.4</td>\n",
       "    </tr>\n",
       "    <tr>\n",
       "      <th>4</th>\n",
       "      <td>0.477273</td>\n",
       "      <td>0.118628</td>\n",
       "      <td>0.720588</td>\n",
       "      <td>1.0</td>\n",
       "      <td>0.0</td>\n",
       "      <td>0.227273</td>\n",
       "      <td>0</td>\n",
       "      <td>1.0</td>\n",
       "      <td>0.0</td>\n",
       "      <td>0.0</td>\n",
       "      <td>...</td>\n",
       "      <td>0.0</td>\n",
       "      <td>0.0</td>\n",
       "      <td>0.0</td>\n",
       "      <td>0.0</td>\n",
       "      <td>1.0</td>\n",
       "      <td>0.042377</td>\n",
       "      <td>0.427026</td>\n",
       "      <td>0.329710</td>\n",
       "      <td>0.755424</td>\n",
       "      <td>0.0</td>\n",
       "    </tr>\n",
       "  </tbody>\n",
       "</table>\n",
       "<p>5 rows × 21 columns</p>\n",
       "</div>"
      ],
      "text/plain": [
       "        age  cost_of_ad    income  n_drivers  n_vehicles  prior_ins_tenure  \\\n",
       "0  0.909091    0.656134  0.555169        1.0         0.0          0.181818   \n",
       "1  0.772727    0.399411  0.574413        1.0         1.0          0.090909   \n",
       "2  0.863636    0.245129  0.802700        0.0         1.0          0.318182   \n",
       "3  0.000000    0.497737  0.165669        1.0         1.0          0.000000   \n",
       "4  0.477273    0.118628  0.720588        1.0         0.0          0.227273   \n",
       "\n",
       "   outcome  location_onehot1  location_onehot2  device_onehot1  ...  \\\n",
       "0        0               1.0               0.0             0.0  ...   \n",
       "1        0               1.0               0.0             0.0  ...   \n",
       "2        0               1.0               0.0             0.0  ...   \n",
       "3        0               1.0               0.0             1.0  ...   \n",
       "4        0               1.0               0.0             0.0  ...   \n",
       "\n",
       "   device_onehot3  device_onehot4  device_onehot5  gender_onehot1  \\\n",
       "0             1.0             0.0             0.0             0.0   \n",
       "1             0.0             0.0             0.0             1.0   \n",
       "2             0.0             1.0             0.0             0.0   \n",
       "3             0.0             0.0             0.0             1.0   \n",
       "4             0.0             0.0             0.0             0.0   \n",
       "\n",
       "   gender_onehot2  cost/driver  cost/vehicle  income/driver  income/vehicle  \\\n",
       "0             1.0     0.234385      0.776455       0.254021        0.608397   \n",
       "1             0.0     0.142678      0.085113       0.262827        0.170182   \n",
       "2             1.0     0.464724      0.051680       0.823328        0.237817   \n",
       "3             0.0     0.177802      0.106420       0.075803        0.049083   \n",
       "4             1.0     0.042377      0.427026       0.329710        0.755424   \n",
       "\n",
       "   vehicle/driver  \n",
       "0             0.0  \n",
       "1             0.4  \n",
       "2             1.0  \n",
       "3             0.4  \n",
       "4             0.0  \n",
       "\n",
       "[5 rows x 21 columns]"
      ]
     },
     "execution_count": 90,
     "metadata": {},
     "output_type": "execute_result"
    }
   ],
   "source": [
    "num_features = [0,1,2,3,4,5,-5,-4,-3,-2,-1]\n",
    "scale = MinMaxScaler()\n",
    "train.iloc[:, num_features] = pd.DataFrame(scale.fit_transform(train.iloc[:,num_features]), columns = train.iloc[:,num_features].columns)\n",
    "train.head()"
   ]
  },
  {
   "cell_type": "code",
   "execution_count": 91,
   "metadata": {},
   "outputs": [],
   "source": [
    "X = train.drop('outcome', axis=1)\n",
    "y = train['outcome']"
   ]
  },
  {
   "cell_type": "code",
   "execution_count": 96,
   "metadata": {},
   "outputs": [
    {
     "name": "stdout",
     "output_type": "stream",
     "text": [
      "scores:[0.81843353 0.82168311 0.82338285 0.80916465 0.8353393 ], \n",
      " mean:0.8216006845126934\n"
     ]
    }
   ],
   "source": [
    "cv_score = cross_val_score(LogisticRegression(),X, y, scoring='roc_auc', cv=5)\n",
    "print(f\"scores:{cv_score}, \\n mean:{cv_score.mean()}\")"
   ]
  },
  {
   "cell_type": "code",
   "execution_count": 97,
   "metadata": {},
   "outputs": [
    {
     "name": "stdout",
     "output_type": "stream",
     "text": [
      "scores:[0.8179089  0.82922021 0.81051462 0.80414481 0.82885124], \n",
      " mean:0.818127955647105\n"
     ]
    }
   ],
   "source": [
    "cv_score = cross_val_score(RandomForestClassifier(n_estimators=500, random_state=42),X, y, scoring='roc_auc', cv=5)\n",
    "print(f\"scores:{cv_score}, \\n mean:{cv_score.mean()}\")"
   ]
  },
  {
   "cell_type": "code",
   "execution_count": 98,
   "metadata": {},
   "outputs": [
    {
     "name": "stdout",
     "output_type": "stream",
     "text": [
      "scores:[0.81010453 0.815611   0.81660652 0.80789772 0.83158639], \n",
      " mean:0.8163612318643152\n"
     ]
    }
   ],
   "source": [
    "cv_score = cross_val_score(LinearDiscriminantAnalysis(),X, y, scoring='roc_auc', cv=5)\n",
    "print(f\"scores:{cv_score}, \\n mean:{cv_score.mean()}\")"
   ]
  },
  {
   "cell_type": "code",
   "execution_count": 159,
   "metadata": {},
   "outputs": [
    {
     "name": "stdout",
     "output_type": "stream",
     "text": [
      "scores:[0.83844009 0.84889022 0.83881624 0.81582726 0.84213142], \n",
      " mean:0.8368210441694546\n"
     ]
    }
   ],
   "source": [
    "cv_score = cross_val_score(XGBClassifier(n_estimators=14, learning_rate=0.3), X, y, scoring='roc_auc', cv=5)\n",
    "print(f\"scores:{cv_score}, \\n mean:{cv_score.mean()}\")"
   ]
  },
  {
   "cell_type": "markdown",
   "metadata": {},
   "source": [
    "**observation**: \n",
    "- the several engieered features are effective to lr"
   ]
  },
  {
   "cell_type": "markdown",
   "metadata": {},
   "source": [
    "# Train test split training"
   ]
  },
  {
   "cell_type": "code",
   "execution_count": 100,
   "metadata": {},
   "outputs": [],
   "source": [
    "from sklearn.model_selection import StratifiedShuffleSplit\n",
    "\n",
    "split = StratifiedShuffleSplit(n_splits=1, test_size=0.3, random_state=42)\n",
    "for train_index, test_index in split.split(X, y):\n",
    "    strat_train_set = train.loc[train_index]\n",
    "    strat_test_set = train.loc[test_index]"
   ]
  },
  {
   "cell_type": "code",
   "execution_count": 101,
   "metadata": {},
   "outputs": [],
   "source": [
    "X_train = strat_train_set.drop('outcome', axis=1)\n",
    "y_train = strat_train_set['outcome']\n",
    "X_test = strat_test_set.drop('outcome', axis=1)\n",
    "y_test = strat_test_set['outcome']"
   ]
  },
  {
   "cell_type": "code",
   "execution_count": 102,
   "metadata": {},
   "outputs": [],
   "source": [
    "from sklearn import metrics"
   ]
  },
  {
   "cell_type": "code",
   "execution_count": 103,
   "metadata": {},
   "outputs": [],
   "source": [
    "def train_model(model, x_train, y_train, x_test, y_test):\n",
    "    model.fit(x_train, y_train)\n",
    "    \n",
    "    y_pred = model.predict(x_test)\n",
    "    y_scores = model.predict_proba(x_test)\n",
    "\n",
    "    return model, metrics.roc_auc_score(y_test, y_scores[:,1])"
   ]
  },
  {
   "cell_type": "code",
   "execution_count": 104,
   "metadata": {},
   "outputs": [
    {
     "name": "stdout",
     "output_type": "stream",
     "text": [
      "0.820721200538864\n"
     ]
    }
   ],
   "source": [
    "_, auc = train_model(LogisticRegression(), X_train, y_train, X_test, y_test)\n",
    "print(auc)"
   ]
  },
  {
   "cell_type": "code",
   "execution_count": 105,
   "metadata": {},
   "outputs": [
    {
     "name": "stdout",
     "output_type": "stream",
     "text": [
      "0.7660659795106363\n"
     ]
    }
   ],
   "source": [
    "_, auc = train_model(SVC(probability=True), X_train, y_train, X_test, y_test)\n",
    "print(auc)"
   ]
  },
  {
   "cell_type": "code",
   "execution_count": 106,
   "metadata": {},
   "outputs": [
    {
     "name": "stdout",
     "output_type": "stream",
     "text": [
      "0.616808170682039\n"
     ]
    }
   ],
   "source": [
    "_, auc = train_model(DecisionTreeClassifier(), X_train, y_train, X_test, y_test)\n",
    "print(auc)"
   ]
  },
  {
   "cell_type": "code",
   "execution_count": 122,
   "metadata": {},
   "outputs": [
    {
     "name": "stdout",
     "output_type": "stream",
     "text": [
      "0.8275710391929572\n"
     ]
    }
   ],
   "source": [
    "rf, auc = train_model(RandomForestClassifier(n_estimators=500, random_state=42), X_train, y_train, X_test, y_test)\n",
    "print(auc)"
   ]
  },
  {
   "cell_type": "code",
   "execution_count": 123,
   "metadata": {},
   "outputs": [
    {
     "data": {
      "text/html": [
       "<div>\n",
       "<style scoped>\n",
       "    .dataframe tbody tr th:only-of-type {\n",
       "        vertical-align: middle;\n",
       "    }\n",
       "\n",
       "    .dataframe tbody tr th {\n",
       "        vertical-align: top;\n",
       "    }\n",
       "\n",
       "    .dataframe thead th {\n",
       "        text-align: right;\n",
       "    }\n",
       "</style>\n",
       "<table border=\"1\" class=\"dataframe\">\n",
       "  <thead>\n",
       "    <tr style=\"text-align: right;\">\n",
       "      <th></th>\n",
       "      <th>0</th>\n",
       "    </tr>\n",
       "  </thead>\n",
       "  <tbody>\n",
       "    <tr>\n",
       "      <th>cost/vehicle</th>\n",
       "      <td>0.112034</td>\n",
       "    </tr>\n",
       "    <tr>\n",
       "      <th>income/vehicle</th>\n",
       "      <td>0.109639</td>\n",
       "    </tr>\n",
       "    <tr>\n",
       "      <th>cost/driver</th>\n",
       "      <td>0.108465</td>\n",
       "    </tr>\n",
       "    <tr>\n",
       "      <th>cost_of_ad</th>\n",
       "      <td>0.102708</td>\n",
       "    </tr>\n",
       "    <tr>\n",
       "      <th>income/driver</th>\n",
       "      <td>0.101841</td>\n",
       "    </tr>\n",
       "    <tr>\n",
       "      <th>income</th>\n",
       "      <td>0.100579</td>\n",
       "    </tr>\n",
       "    <tr>\n",
       "      <th>age</th>\n",
       "      <td>0.093012</td>\n",
       "    </tr>\n",
       "    <tr>\n",
       "      <th>prior_ins_tenure</th>\n",
       "      <td>0.066368</td>\n",
       "    </tr>\n",
       "    <tr>\n",
       "      <th>vehicle/driver</th>\n",
       "      <td>0.025508</td>\n",
       "    </tr>\n",
       "    <tr>\n",
       "      <th>device_onehot2</th>\n",
       "      <td>0.025315</td>\n",
       "    </tr>\n",
       "    <tr>\n",
       "      <th>location_onehot2</th>\n",
       "      <td>0.021700</td>\n",
       "    </tr>\n",
       "    <tr>\n",
       "      <th>location_onehot1</th>\n",
       "      <td>0.021465</td>\n",
       "    </tr>\n",
       "    <tr>\n",
       "      <th>device_onehot1</th>\n",
       "      <td>0.020900</td>\n",
       "    </tr>\n",
       "    <tr>\n",
       "      <th>device_onehot4</th>\n",
       "      <td>0.018076</td>\n",
       "    </tr>\n",
       "    <tr>\n",
       "      <th>n_vehicles</th>\n",
       "      <td>0.016183</td>\n",
       "    </tr>\n",
       "    <tr>\n",
       "      <th>gender_onehot2</th>\n",
       "      <td>0.015674</td>\n",
       "    </tr>\n",
       "    <tr>\n",
       "      <th>gender_onehot1</th>\n",
       "      <td>0.014912</td>\n",
       "    </tr>\n",
       "    <tr>\n",
       "      <th>device_onehot5</th>\n",
       "      <td>0.013376</td>\n",
       "    </tr>\n",
       "    <tr>\n",
       "      <th>n_drivers</th>\n",
       "      <td>0.007069</td>\n",
       "    </tr>\n",
       "    <tr>\n",
       "      <th>device_onehot3</th>\n",
       "      <td>0.005175</td>\n",
       "    </tr>\n",
       "  </tbody>\n",
       "</table>\n",
       "</div>"
      ],
      "text/plain": [
       "                         0\n",
       "cost/vehicle      0.112034\n",
       "income/vehicle    0.109639\n",
       "cost/driver       0.108465\n",
       "cost_of_ad        0.102708\n",
       "income/driver     0.101841\n",
       "income            0.100579\n",
       "age               0.093012\n",
       "prior_ins_tenure  0.066368\n",
       "vehicle/driver    0.025508\n",
       "device_onehot2    0.025315\n",
       "location_onehot2  0.021700\n",
       "location_onehot1  0.021465\n",
       "device_onehot1    0.020900\n",
       "device_onehot4    0.018076\n",
       "n_vehicles        0.016183\n",
       "gender_onehot2    0.015674\n",
       "gender_onehot1    0.014912\n",
       "device_onehot5    0.013376\n",
       "n_drivers         0.007069\n",
       "device_onehot3    0.005175"
      ]
     },
     "execution_count": 123,
     "metadata": {},
     "output_type": "execute_result"
    }
   ],
   "source": [
    "pd.DataFrame(rf.feature_importances_, index = train.drop('outcome', axis=1).columns).sort_values(by=[0], ascending=False)"
   ]
  },
  {
   "cell_type": "code",
   "execution_count": 124,
   "metadata": {},
   "outputs": [
    {
     "name": "stdout",
     "output_type": "stream",
     "text": [
      "0.8152473448416304\n"
     ]
    }
   ],
   "source": [
    "_, auc = train_model(LinearDiscriminantAnalysis(), X_train, y_train, X_test, y_test)\n",
    "print(auc)"
   ]
  },
  {
   "cell_type": "code",
   "execution_count": 183,
   "metadata": {},
   "outputs": [
    {
     "name": "stdout",
     "output_type": "stream",
     "text": [
      "0.8426943199974937\n"
     ]
    }
   ],
   "source": [
    "xg, auc = train_model(XGBClassifier(n_estimators=14, learning_rate=0.3), X_train, y_train, X_test, y_test)\n",
    "print(auc)"
   ]
  },
  {
   "cell_type": "code",
   "execution_count": 184,
   "metadata": {},
   "outputs": [
    {
     "data": {
      "text/html": [
       "<div>\n",
       "<style scoped>\n",
       "    .dataframe tbody tr th:only-of-type {\n",
       "        vertical-align: middle;\n",
       "    }\n",
       "\n",
       "    .dataframe tbody tr th {\n",
       "        vertical-align: top;\n",
       "    }\n",
       "\n",
       "    .dataframe thead th {\n",
       "        text-align: right;\n",
       "    }\n",
       "</style>\n",
       "<table border=\"1\" class=\"dataframe\">\n",
       "  <thead>\n",
       "    <tr style=\"text-align: right;\">\n",
       "      <th></th>\n",
       "      <th>0</th>\n",
       "    </tr>\n",
       "  </thead>\n",
       "  <tbody>\n",
       "    <tr>\n",
       "      <th>vehicle/driver</th>\n",
       "      <td>0.239575</td>\n",
       "    </tr>\n",
       "    <tr>\n",
       "      <th>n_vehicles</th>\n",
       "      <td>0.113478</td>\n",
       "    </tr>\n",
       "    <tr>\n",
       "      <th>device_onehot4</th>\n",
       "      <td>0.079726</td>\n",
       "    </tr>\n",
       "    <tr>\n",
       "      <th>device_onehot2</th>\n",
       "      <td>0.074020</td>\n",
       "    </tr>\n",
       "    <tr>\n",
       "      <th>gender_onehot1</th>\n",
       "      <td>0.069224</td>\n",
       "    </tr>\n",
       "    <tr>\n",
       "      <th>n_drivers</th>\n",
       "      <td>0.058794</td>\n",
       "    </tr>\n",
       "    <tr>\n",
       "      <th>location_onehot1</th>\n",
       "      <td>0.050767</td>\n",
       "    </tr>\n",
       "    <tr>\n",
       "      <th>device_onehot5</th>\n",
       "      <td>0.050677</td>\n",
       "    </tr>\n",
       "    <tr>\n",
       "      <th>device_onehot1</th>\n",
       "      <td>0.041967</td>\n",
       "    </tr>\n",
       "    <tr>\n",
       "      <th>device_onehot3</th>\n",
       "      <td>0.032677</td>\n",
       "    </tr>\n",
       "    <tr>\n",
       "      <th>cost/vehicle</th>\n",
       "      <td>0.027858</td>\n",
       "    </tr>\n",
       "    <tr>\n",
       "      <th>cost/driver</th>\n",
       "      <td>0.027188</td>\n",
       "    </tr>\n",
       "    <tr>\n",
       "      <th>age</th>\n",
       "      <td>0.024567</td>\n",
       "    </tr>\n",
       "    <tr>\n",
       "      <th>income/vehicle</th>\n",
       "      <td>0.023633</td>\n",
       "    </tr>\n",
       "    <tr>\n",
       "      <th>prior_ins_tenure</th>\n",
       "      <td>0.023474</td>\n",
       "    </tr>\n",
       "    <tr>\n",
       "      <th>income/driver</th>\n",
       "      <td>0.021781</td>\n",
       "    </tr>\n",
       "    <tr>\n",
       "      <th>income</th>\n",
       "      <td>0.020816</td>\n",
       "    </tr>\n",
       "    <tr>\n",
       "      <th>cost_of_ad</th>\n",
       "      <td>0.019778</td>\n",
       "    </tr>\n",
       "    <tr>\n",
       "      <th>location_onehot2</th>\n",
       "      <td>0.000000</td>\n",
       "    </tr>\n",
       "    <tr>\n",
       "      <th>gender_onehot2</th>\n",
       "      <td>0.000000</td>\n",
       "    </tr>\n",
       "  </tbody>\n",
       "</table>\n",
       "</div>"
      ],
      "text/plain": [
       "                         0\n",
       "vehicle/driver    0.239575\n",
       "n_vehicles        0.113478\n",
       "device_onehot4    0.079726\n",
       "device_onehot2    0.074020\n",
       "gender_onehot1    0.069224\n",
       "n_drivers         0.058794\n",
       "location_onehot1  0.050767\n",
       "device_onehot5    0.050677\n",
       "device_onehot1    0.041967\n",
       "device_onehot3    0.032677\n",
       "cost/vehicle      0.027858\n",
       "cost/driver       0.027188\n",
       "age               0.024567\n",
       "income/vehicle    0.023633\n",
       "prior_ins_tenure  0.023474\n",
       "income/driver     0.021781\n",
       "income            0.020816\n",
       "cost_of_ad        0.019778\n",
       "location_onehot2  0.000000\n",
       "gender_onehot2    0.000000"
      ]
     },
     "execution_count": 184,
     "metadata": {},
     "output_type": "execute_result"
    }
   ],
   "source": [
    "pd.DataFrame(xg.feature_importances_, index = train.drop('outcome', axis=1).columns).sort_values(by=[0], ascending=False)"
   ]
  },
  {
   "cell_type": "code",
   "execution_count": 154,
   "metadata": {},
   "outputs": [
    {
     "name": "stdout",
     "output_type": "stream",
     "text": [
      "[0]\tvalidation_0-error:0.09033\n",
      "Will train until validation_0-error hasn't improved in 5 rounds.\n",
      "[1]\tvalidation_0-error:0.08900\n",
      "[2]\tvalidation_0-error:0.09167\n",
      "[3]\tvalidation_0-error:0.08900\n",
      "[4]\tvalidation_0-error:0.08767\n",
      "[5]\tvalidation_0-error:0.08833\n",
      "[6]\tvalidation_0-error:0.08900\n",
      "[7]\tvalidation_0-error:0.08767\n",
      "[8]\tvalidation_0-error:0.08833\n",
      "[9]\tvalidation_0-error:0.08700\n",
      "[10]\tvalidation_0-error:0.08833\n",
      "[11]\tvalidation_0-error:0.08767\n",
      "[12]\tvalidation_0-error:0.08700\n",
      "[13]\tvalidation_0-error:0.08733\n",
      "[14]\tvalidation_0-error:0.08667\n"
     ]
    },
    {
     "data": {
      "text/plain": [
       "0.8420514427143708"
      ]
     },
     "execution_count": 154,
     "metadata": {},
     "output_type": "execute_result"
    }
   ],
   "source": [
    "my_model = XGBClassifier(n_estimators=15, learning_rate=0.3)\n",
    "\n",
    "my_model.fit(X_train, y_train,\n",
    "             early_stopping_rounds=5,\n",
    "            eval_set=[(X_test, y_test)])\n",
    "\n",
    "y_scores = my_model.predict_proba(X_test)\n",
    "metrics.roc_auc_score(y_test, y_scores[:,1])"
   ]
  },
  {
   "cell_type": "code",
   "execution_count": 43,
   "metadata": {},
   "outputs": [],
   "source": [
    "def zero_classifier(X):\n",
    "    return np.zeros(len(X))"
   ]
  },
  {
   "cell_type": "code",
   "execution_count": 44,
   "metadata": {},
   "outputs": [
    {
     "data": {
      "text/plain": [
       "array([0., 0., 0., ..., 0., 0., 0.])"
      ]
     },
     "execution_count": 44,
     "metadata": {},
     "output_type": "execute_result"
    }
   ],
   "source": [
    "zero_classifier(X_test)"
   ]
  },
  {
   "cell_type": "code",
   "execution_count": 45,
   "metadata": {},
   "outputs": [
    {
     "data": {
      "text/plain": [
       "0.5"
      ]
     },
     "execution_count": 45,
     "metadata": {},
     "output_type": "execute_result"
    }
   ],
   "source": [
    "metrics.roc_auc_score(y_test, zero_classifier(X_test))"
   ]
  },
  {
   "cell_type": "code",
   "execution_count": 46,
   "metadata": {},
   "outputs": [],
   "source": [
    "from sklearn.model_selection import cross_val_predict"
   ]
  },
  {
   "cell_type": "code",
   "execution_count": 179,
   "metadata": {},
   "outputs": [],
   "source": [
    "from sklearn.metrics import roc_curve\n",
    "\n",
    "model_dict = {'lr': LogisticRegression(),\n",
    "              'svm': SVC(probability=True), \n",
    "              'cart': DecisionTreeClassifier(), \n",
    "              'rf': RandomForestClassifier(),\n",
    "              'ldr': LinearDiscriminantAnalysis(),\n",
    "              'xgb': XGBClassifier(n_estimators=14, learning_rate=0.3)\n",
    "             }\n",
    "\n",
    "fprs = []\n",
    "tprs = []\n",
    "\n",
    "for i, model in enumerate(model_dict):\n",
    "    y_scores = cross_val_predict(model_dict[model], X_train, y_train, cv=3, method=\"predict_proba\")[:, 1]\n",
    "    fpr, tpr, thresholds = roc_curve(y_train, y_scores)\n",
    "    fprs.append(fpr)\n",
    "    tprs.append(tpr)\n"
   ]
  },
  {
   "cell_type": "code",
   "execution_count": 180,
   "metadata": {},
   "outputs": [
    {
     "data": {
      "image/png": "[encoded data removed]",
      "text/plain": [
       "<Figure size 432x288 with 1 Axes>"
      ]
     },
     "metadata": {
      "needs_background": "light"
     },
     "output_type": "display_data"
    }
   ],
   "source": [
    "def plot_roc_curve(fpr, tpr, label=None):\n",
    "    plt.plot(fpr, tpr, linewidth=2, label=label)\n",
    "    plt.plot([0, 1], [0, 1], 'k--')\n",
    "    plt.axis([0, 1, 0, 1])\n",
    "    plt.xlabel('False Positive Rate')\n",
    "    plt.ylabel('True Positive Rate')\n",
    "\n",
    "for i, model in enumerate(model_dict):\n",
    "    plot_roc_curve(fprs[i], tprs[i], model)\n",
    "    \n",
    "plt.legend()\n",
    "plt.show()\n"
   ]
  },
  {
   "cell_type": "markdown",
   "metadata": {},
   "source": [
    "# Grid search"
   ]
  },
  {
   "cell_type": "code",
   "execution_count": 50,
   "metadata": {},
   "outputs": [],
   "source": [
    "from sklearn.model_selection import GridSearchCV"
   ]
  },
  {
   "cell_type": "code",
   "execution_count": 51,
   "metadata": {},
   "outputs": [
    {
     "data": {
      "text/plain": [
       "RandomForestClassifier(bootstrap=True, ccp_alpha=0.0, class_weight=None,\n",
       "                       criterion='gini', max_depth=None, max_features='auto',\n",
       "                       max_leaf_nodes=None, max_samples=None,\n",
       "                       min_impurity_decrease=0.0, min_impurity_split=None,\n",
       "                       min_samples_leaf=1, min_samples_split=2,\n",
       "                       min_weight_fraction_leaf=0.0, n_estimators=100,\n",
       "                       n_jobs=None, oob_score=False, random_state=None,\n",
       "                       verbose=0, warm_start=False)"
      ]
     },
     "execution_count": 51,
     "metadata": {},
     "output_type": "execute_result"
    }
   ],
   "source": [
    "RandomForestClassifier()"
   ]
  },
  {
   "cell_type": "code",
   "execution_count": 52,
   "metadata": {},
   "outputs": [
    {
     "name": "stdout",
     "output_type": "stream",
     "text": [
      "Fitting 5 folds for each of 15 candidates, totalling 75 fits\n"
     ]
    },
    {
     "name": "stderr",
     "output_type": "stream",
     "text": [
      "[Parallel(n_jobs=8)]: Using backend LokyBackend with 8 concurrent workers.\n",
      "[Parallel(n_jobs=8)]: Done  25 tasks      | elapsed:    6.4s\n",
      "[Parallel(n_jobs=8)]: Done  75 out of  75 | elapsed:   29.1s finished\n"
     ]
    },
    {
     "data": {
      "text/plain": [
       "GridSearchCV(cv=5, error_score=nan,\n",
       "             estimator=RandomForestClassifier(bootstrap=True, ccp_alpha=0.0,\n",
       "                                              class_weight=None,\n",
       "                                              criterion='gini', max_depth=None,\n",
       "                                              max_features='auto',\n",
       "                                              max_leaf_nodes=None,\n",
       "                                              max_samples=None,\n",
       "                                              min_impurity_decrease=0.0,\n",
       "                                              min_impurity_split=None,\n",
       "                                              min_samples_leaf=1,\n",
       "                                              min_samples_split=2,\n",
       "                                              min_weight_fraction_leaf=0.0,\n",
       "                                              n_estimators=100, n_jobs=None,\n",
       "                                              oob_score=False,\n",
       "                                              random_state=None, verbose=0,\n",
       "                                              warm_start=False),\n",
       "             iid='deprecated', n_jobs=8,\n",
       "             param_grid=[{'max_features': array([ 3,  6,  9, 12, 15]),\n",
       "                          'n_estimators': [50, 100, 200]}],\n",
       "             pre_dispatch='2*n_jobs', refit=True, return_train_score=False,\n",
       "             scoring='roc_auc', verbose=2)"
      ]
     },
     "execution_count": 52,
     "metadata": {},
     "output_type": "execute_result"
    }
   ],
   "source": [
    "param_grid = [{'n_estimators': [50, 100, 200], 'max_features': np.arange(3,16,3)},\n",
    "              \n",
    "             ]\n",
    "rf = RandomForestClassifier()\n",
    "grid_search = GridSearchCV(rf, param_grid, cv=5,\n",
    "                           scoring='roc_auc', verbose=2, n_jobs=8)\n",
    "grid_search.fit(X, y)\n"
   ]
  },
  {
   "cell_type": "code",
   "execution_count": 53,
   "metadata": {},
   "outputs": [
    {
     "data": {
      "text/plain": [
       "{'max_features': 3, 'n_estimators': 200}"
      ]
     },
     "execution_count": 53,
     "metadata": {},
     "output_type": "execute_result"
    }
   ],
   "source": [
    "grid_search.best_params_"
   ]
  },
  {
   "cell_type": "code",
   "execution_count": 54,
   "metadata": {},
   "outputs": [
    {
     "data": {
      "text/plain": [
       "RandomForestClassifier(bootstrap=True, ccp_alpha=0.0, class_weight=None,\n",
       "                       criterion='gini', max_depth=None, max_features=3,\n",
       "                       max_leaf_nodes=None, max_samples=None,\n",
       "                       min_impurity_decrease=0.0, min_impurity_split=None,\n",
       "                       min_samples_leaf=1, min_samples_split=2,\n",
       "                       min_weight_fraction_leaf=0.0, n_estimators=200,\n",
       "                       n_jobs=None, oob_score=False, random_state=None,\n",
       "                       verbose=0, warm_start=False)"
      ]
     },
     "execution_count": 54,
     "metadata": {},
     "output_type": "execute_result"
    }
   ],
   "source": [
    "grid_search.best_estimator_"
   ]
  },
  {
   "cell_type": "code",
   "execution_count": 55,
   "metadata": {},
   "outputs": [],
   "source": [
    "cvres = grid_search.cv_results_"
   ]
  },
  {
   "cell_type": "code",
   "execution_count": 56,
   "metadata": {},
   "outputs": [
    {
     "name": "stdout",
     "output_type": "stream",
     "text": [
      "0.7997101624933626 {'max_features': 3, 'n_estimators': 50}\n",
      "0.8162641073358706 {'max_features': 3, 'n_estimators': 100}\n",
      "0.8193450536074058 {'max_features': 3, 'n_estimators': 200}\n",
      "0.8035813409795965 {'max_features': 6, 'n_estimators': 50}\n",
      "0.8096883058565348 {'max_features': 6, 'n_estimators': 100}\n",
      "0.8164430205823393 {'max_features': 6, 'n_estimators': 200}\n",
      "0.8094670471752433 {'max_features': 9, 'n_estimators': 50}\n",
      "0.8090489559481243 {'max_features': 9, 'n_estimators': 100}\n",
      "0.8101343830838985 {'max_features': 9, 'n_estimators': 200}\n",
      "0.8003017393119659 {'max_features': 12, 'n_estimators': 50}\n",
      "0.8052891359076083 {'max_features': 12, 'n_estimators': 100}\n",
      "0.8101459287633268 {'max_features': 12, 'n_estimators': 200}\n",
      "0.7975139570864729 {'max_features': 15, 'n_estimators': 50}\n",
      "0.8051643400293356 {'max_features': 15, 'n_estimators': 100}\n",
      "0.8070593988520735 {'max_features': 15, 'n_estimators': 200}\n"
     ]
    }
   ],
   "source": [
    "for mean_score, params in zip(cvres['mean_test_score'], cvres['params']):\n",
    "    print(mean_score, params)"
   ]
  },
  {
   "cell_type": "code",
   "execution_count": null,
   "metadata": {},
   "outputs": [],
   "source": []
  },
  {
   "cell_type": "code",
   "execution_count": null,
   "metadata": {},
   "outputs": [],
   "source": []
  },
  {
   "cell_type": "code",
   "execution_count": 57,
   "metadata": {},
   "outputs": [
    {
     "name": "stdout",
     "output_type": "stream",
     "text": [
      "<class 'pandas.core.frame.DataFrame'>\n",
      "RangeIndex: 10000 entries, 0 to 9999\n",
      "Data columns (total 9 columns):\n",
      "age                           10000 non-null int64\n",
      "cost_of_ad                    10000 non-null float64\n",
      "device_type                   10000 non-null object\n",
      "gender                        9751 non-null object\n",
      "in_initial_launch_location    10000 non-null int64\n",
      "income                        10000 non-null int64\n",
      "n_drivers                     10000 non-null int64\n",
      "n_vehicles                    10000 non-null int64\n",
      "prior_ins_tenure              10000 non-null int64\n",
      "dtypes: float64(1), int64(6), object(2)\n",
      "memory usage: 703.2+ KB\n"
     ]
    }
   ],
   "source": [
    "test_df.info()"
   ]
  },
  {
   "cell_type": "code",
   "execution_count": null,
   "metadata": {},
   "outputs": [],
   "source": []
  }
 ],
 "metadata": {
  "kernelspec": {
   "display_name": "Python 3",
   "language": "python",
   "name": "python3"
  },
  "language_info": {
   "codemirror_mode": {
    "name": "ipython",
    "version": 3
   },
   "file_extension": ".py",
   "mimetype": "text/x-python",
   "name": "python",
   "nbconvert_exporter": "python",
   "pygments_lexer": "ipython3",
   "version": "3.7.3"
  },
  "toc": {
   "base_numbering": 1,
   "nav_menu": {},
   "number_sections": true,
   "sideBar": true,
   "skip_h1_title": false,
   "title_cell": "Table of Contents",
   "title_sidebar": "Contents",
   "toc_cell": false,
   "toc_position": {},
   "toc_section_display": true,
   "toc_window_display": true
  }
 },
 "nbformat": 4,
 "nbformat_minor": 2
}
